{
 "cells": [
  {
   "cell_type": "code",
   "execution_count": 1,
   "id": "81f81155",
   "metadata": {},
   "outputs": [],
   "source": [
    "import pandas as pd\n",
    "from sklearn.linear_model import LogisticRegression\n",
    "import matplotlib.pyplot as plt\n",
    "import numpy as np\n",
    "from sklearn.model_selection import GridSearchCV, train_test_split\n",
    "from sklearn.preprocessing import StandardScaler\n",
    "from sklearn.model_selection import cross_val_score\n",
    "from sklearn.model_selection import cross_validate\n",
    "from sklearn.ensemble import RandomForestClassifier\n",
    "from sklearn.neighbors import KNeighborsClassifier\n",
    "from sklearn.manifold import TSNE\n",
    "from sklearn.linear_model import SGDClassifier\n",
    "from sklearn.pipeline import make_pipeline\n",
    "# !pip install imblearn\n",
    "from imblearn.over_sampling import RandomOverSampler\n",
    "import seaborn as sns\n",
    "\n",
    "import graphviz\n",
    "from sklearn import tree\n",
    "from sklearn.tree import DecisionTreeClassifier\n",
    "from sklearn.model_selection import cross_val_score"
   ]
  },
  {
   "cell_type": "code",
   "execution_count": 610,
   "id": "064c4b15",
   "metadata": {},
   "outputs": [],
   "source": [
    "df = pd.read_csv('C:/workspace/Python/머신러닝 플젝/hotel_bookings_cancel.csv', header = 0)"
   ]
  },
  {
   "cell_type": "code",
   "execution_count": 611,
   "id": "179c2e4f",
   "metadata": {},
   "outputs": [],
   "source": [
    "df = df.drop(['reservation_status'], axis = 1)"
   ]
  },
  {
   "cell_type": "code",
   "execution_count": 612,
   "id": "b7018a8a",
   "metadata": {},
   "outputs": [],
   "source": [
    "df['children'] = df['children'].fillna(0)\n",
    "df['babies'] = df['babies'].fillna(0)"
   ]
  },
  {
   "cell_type": "code",
   "execution_count": 613,
   "id": "4350797c",
   "metadata": {},
   "outputs": [
    {
     "data": {
      "text/plain": [
       "0    75166\n",
       "1    44224\n",
       "Name: is_canceled, dtype: int64"
      ]
     },
     "execution_count": 613,
     "metadata": {},
     "output_type": "execute_result"
    }
   ],
   "source": [
    "df['agent'] = df['agent'].fillna(0)\n",
    "df.loc[df.agent != 0,'agent'] = 1 #df[df.loc[df['agent'] != 0]] = 1\n",
    "\n",
    "df['is_canceled'].value_counts()"
   ]
  },
  {
   "cell_type": "code",
   "execution_count": 614,
   "id": "a8b9a493",
   "metadata": {},
   "outputs": [],
   "source": [
    "df[\"kids\"] = df[\"children\"] + df[\"babies\"]"
   ]
  },
  {
   "cell_type": "code",
   "execution_count": 615,
   "id": "dab0787a",
   "metadata": {},
   "outputs": [
    {
     "data": {
      "text/plain": [
       "0    75166\n",
       "1    44224\n",
       "Name: is_canceled, dtype: int64"
      ]
     },
     "execution_count": 615,
     "metadata": {},
     "output_type": "execute_result"
    }
   ],
   "source": [
    "df.loc[df.kids != 0, 'kids'] = 1\n",
    "df['kids'].value_counts()\n",
    "df['is_canceled'].value_counts()"
   ]
  },
  {
   "cell_type": "code",
   "execution_count": 616,
   "id": "4e92aa1d",
   "metadata": {},
   "outputs": [
    {
     "data": {
      "text/plain": [
       "0.0    110058\n",
       "1.0      9332\n",
       "Name: kids, dtype: int64"
      ]
     },
     "execution_count": 616,
     "metadata": {},
     "output_type": "execute_result"
    }
   ],
   "source": [
    "df['kids'].value_counts()"
   ]
  },
  {
   "cell_type": "markdown",
   "id": "0642f70d",
   "metadata": {},
   "source": [
    "df[\"total_guest\"] = df[\"adults\"] + df[\"children\"] + df[\"babies\"]\n",
    "df.shape\n",
    "df[\"total_nights\"] = df[\"stays_in_weekend_nights\"]+ df[\"stays_in_week_nights\"]"
   ]
  },
  {
   "cell_type": "code",
   "execution_count": 617,
   "id": "4cc11433",
   "metadata": {},
   "outputs": [
    {
     "name": "stdout",
     "output_type": "stream",
     "text": [
      "(119390, 24) (119390, 16)\n"
     ]
    }
   ],
   "source": [
    "df_ml = df.drop([\"adults\", \"children\", \"babies\", \"assigned_room_type\", \"reserved_room_type\",\"arrival_date_day_of_month\", \"required_car_parking_spaces\", \"total_of_special_requests\"], axis = 1)\n",
    "print(df.shape, df_ml.shape)"
   ]
  },
  {
   "cell_type": "code",
   "execution_count": 618,
   "id": "80fe9e77",
   "metadata": {
    "scrolled": true
   },
   "outputs": [
    {
     "data": {
      "text/html": [
       "<div>\n",
       "<style scoped>\n",
       "    .dataframe tbody tr th:only-of-type {\n",
       "        vertical-align: middle;\n",
       "    }\n",
       "\n",
       "    .dataframe tbody tr th {\n",
       "        vertical-align: top;\n",
       "    }\n",
       "\n",
       "    .dataframe thead th {\n",
       "        text-align: right;\n",
       "    }\n",
       "</style>\n",
       "<table border=\"1\" class=\"dataframe\">\n",
       "  <thead>\n",
       "    <tr style=\"text-align: right;\">\n",
       "      <th></th>\n",
       "      <th>is_canceled</th>\n",
       "      <th>lead_time</th>\n",
       "      <th>arrival_date_month</th>\n",
       "      <th>stays_in_weekend_nights</th>\n",
       "      <th>stays_in_week_nights</th>\n",
       "      <th>meal</th>\n",
       "      <th>market_segment</th>\n",
       "      <th>is_repeated_guest</th>\n",
       "      <th>previous_cancellations</th>\n",
       "      <th>previous_bookings_not_canceled</th>\n",
       "      <th>booking_changes</th>\n",
       "      <th>deposit_type</th>\n",
       "      <th>agent</th>\n",
       "      <th>customer_type</th>\n",
       "      <th>adr</th>\n",
       "      <th>kids</th>\n",
       "    </tr>\n",
       "  </thead>\n",
       "  <tbody>\n",
       "    <tr>\n",
       "      <th>0</th>\n",
       "      <td>0</td>\n",
       "      <td>342</td>\n",
       "      <td>July</td>\n",
       "      <td>0</td>\n",
       "      <td>0</td>\n",
       "      <td>BB</td>\n",
       "      <td>Direct</td>\n",
       "      <td>0</td>\n",
       "      <td>0</td>\n",
       "      <td>0</td>\n",
       "      <td>3</td>\n",
       "      <td>No Deposit</td>\n",
       "      <td>0.0</td>\n",
       "      <td>Transient</td>\n",
       "      <td>0.0</td>\n",
       "      <td>0.0</td>\n",
       "    </tr>\n",
       "    <tr>\n",
       "      <th>1</th>\n",
       "      <td>0</td>\n",
       "      <td>737</td>\n",
       "      <td>July</td>\n",
       "      <td>0</td>\n",
       "      <td>0</td>\n",
       "      <td>BB</td>\n",
       "      <td>Direct</td>\n",
       "      <td>0</td>\n",
       "      <td>0</td>\n",
       "      <td>0</td>\n",
       "      <td>4</td>\n",
       "      <td>No Deposit</td>\n",
       "      <td>0.0</td>\n",
       "      <td>Transient</td>\n",
       "      <td>0.0</td>\n",
       "      <td>0.0</td>\n",
       "    </tr>\n",
       "    <tr>\n",
       "      <th>2</th>\n",
       "      <td>0</td>\n",
       "      <td>7</td>\n",
       "      <td>July</td>\n",
       "      <td>0</td>\n",
       "      <td>1</td>\n",
       "      <td>BB</td>\n",
       "      <td>Direct</td>\n",
       "      <td>0</td>\n",
       "      <td>0</td>\n",
       "      <td>0</td>\n",
       "      <td>0</td>\n",
       "      <td>No Deposit</td>\n",
       "      <td>0.0</td>\n",
       "      <td>Transient</td>\n",
       "      <td>75.0</td>\n",
       "      <td>0.0</td>\n",
       "    </tr>\n",
       "    <tr>\n",
       "      <th>3</th>\n",
       "      <td>0</td>\n",
       "      <td>13</td>\n",
       "      <td>July</td>\n",
       "      <td>0</td>\n",
       "      <td>1</td>\n",
       "      <td>BB</td>\n",
       "      <td>Corporate</td>\n",
       "      <td>0</td>\n",
       "      <td>0</td>\n",
       "      <td>0</td>\n",
       "      <td>0</td>\n",
       "      <td>No Deposit</td>\n",
       "      <td>1.0</td>\n",
       "      <td>Transient</td>\n",
       "      <td>75.0</td>\n",
       "      <td>0.0</td>\n",
       "    </tr>\n",
       "    <tr>\n",
       "      <th>4</th>\n",
       "      <td>0</td>\n",
       "      <td>14</td>\n",
       "      <td>July</td>\n",
       "      <td>0</td>\n",
       "      <td>2</td>\n",
       "      <td>BB</td>\n",
       "      <td>Online TA</td>\n",
       "      <td>0</td>\n",
       "      <td>0</td>\n",
       "      <td>0</td>\n",
       "      <td>0</td>\n",
       "      <td>No Deposit</td>\n",
       "      <td>1.0</td>\n",
       "      <td>Transient</td>\n",
       "      <td>98.0</td>\n",
       "      <td>0.0</td>\n",
       "    </tr>\n",
       "    <tr>\n",
       "      <th>...</th>\n",
       "      <td>...</td>\n",
       "      <td>...</td>\n",
       "      <td>...</td>\n",
       "      <td>...</td>\n",
       "      <td>...</td>\n",
       "      <td>...</td>\n",
       "      <td>...</td>\n",
       "      <td>...</td>\n",
       "      <td>...</td>\n",
       "      <td>...</td>\n",
       "      <td>...</td>\n",
       "      <td>...</td>\n",
       "      <td>...</td>\n",
       "      <td>...</td>\n",
       "      <td>...</td>\n",
       "      <td>...</td>\n",
       "    </tr>\n",
       "    <tr>\n",
       "      <th>119385</th>\n",
       "      <td>1</td>\n",
       "      <td>464</td>\n",
       "      <td>October</td>\n",
       "      <td>0</td>\n",
       "      <td>2</td>\n",
       "      <td>BB</td>\n",
       "      <td>Groups</td>\n",
       "      <td>0</td>\n",
       "      <td>0</td>\n",
       "      <td>0</td>\n",
       "      <td>0</td>\n",
       "      <td>Non Refund</td>\n",
       "      <td>1.0</td>\n",
       "      <td>Transient</td>\n",
       "      <td>65.0</td>\n",
       "      <td>0.0</td>\n",
       "    </tr>\n",
       "    <tr>\n",
       "      <th>119386</th>\n",
       "      <td>1</td>\n",
       "      <td>464</td>\n",
       "      <td>October</td>\n",
       "      <td>0</td>\n",
       "      <td>2</td>\n",
       "      <td>BB</td>\n",
       "      <td>Groups</td>\n",
       "      <td>0</td>\n",
       "      <td>0</td>\n",
       "      <td>0</td>\n",
       "      <td>0</td>\n",
       "      <td>Non Refund</td>\n",
       "      <td>1.0</td>\n",
       "      <td>Transient</td>\n",
       "      <td>65.0</td>\n",
       "      <td>0.0</td>\n",
       "    </tr>\n",
       "    <tr>\n",
       "      <th>119387</th>\n",
       "      <td>1</td>\n",
       "      <td>464</td>\n",
       "      <td>October</td>\n",
       "      <td>0</td>\n",
       "      <td>2</td>\n",
       "      <td>BB</td>\n",
       "      <td>Groups</td>\n",
       "      <td>0</td>\n",
       "      <td>0</td>\n",
       "      <td>0</td>\n",
       "      <td>0</td>\n",
       "      <td>Non Refund</td>\n",
       "      <td>1.0</td>\n",
       "      <td>Transient</td>\n",
       "      <td>65.0</td>\n",
       "      <td>0.0</td>\n",
       "    </tr>\n",
       "    <tr>\n",
       "      <th>119388</th>\n",
       "      <td>1</td>\n",
       "      <td>464</td>\n",
       "      <td>October</td>\n",
       "      <td>0</td>\n",
       "      <td>2</td>\n",
       "      <td>BB</td>\n",
       "      <td>Groups</td>\n",
       "      <td>0</td>\n",
       "      <td>0</td>\n",
       "      <td>0</td>\n",
       "      <td>2</td>\n",
       "      <td>Non Refund</td>\n",
       "      <td>1.0</td>\n",
       "      <td>Transient</td>\n",
       "      <td>65.0</td>\n",
       "      <td>0.0</td>\n",
       "    </tr>\n",
       "    <tr>\n",
       "      <th>119389</th>\n",
       "      <td>1</td>\n",
       "      <td>464</td>\n",
       "      <td>October</td>\n",
       "      <td>0</td>\n",
       "      <td>2</td>\n",
       "      <td>BB</td>\n",
       "      <td>Groups</td>\n",
       "      <td>0</td>\n",
       "      <td>0</td>\n",
       "      <td>0</td>\n",
       "      <td>2</td>\n",
       "      <td>Non Refund</td>\n",
       "      <td>1.0</td>\n",
       "      <td>Transient</td>\n",
       "      <td>65.0</td>\n",
       "      <td>0.0</td>\n",
       "    </tr>\n",
       "  </tbody>\n",
       "</table>\n",
       "<p>119390 rows × 16 columns</p>\n",
       "</div>"
      ],
      "text/plain": [
       "        is_canceled  lead_time arrival_date_month  stays_in_weekend_nights  \\\n",
       "0                 0        342               July                        0   \n",
       "1                 0        737               July                        0   \n",
       "2                 0          7               July                        0   \n",
       "3                 0         13               July                        0   \n",
       "4                 0         14               July                        0   \n",
       "...             ...        ...                ...                      ...   \n",
       "119385            1        464            October                        0   \n",
       "119386            1        464            October                        0   \n",
       "119387            1        464            October                        0   \n",
       "119388            1        464            October                        0   \n",
       "119389            1        464            October                        0   \n",
       "\n",
       "        stays_in_week_nights meal market_segment  is_repeated_guest  \\\n",
       "0                          0   BB         Direct                  0   \n",
       "1                          0   BB         Direct                  0   \n",
       "2                          1   BB         Direct                  0   \n",
       "3                          1   BB      Corporate                  0   \n",
       "4                          2   BB      Online TA                  0   \n",
       "...                      ...  ...            ...                ...   \n",
       "119385                     2   BB         Groups                  0   \n",
       "119386                     2   BB         Groups                  0   \n",
       "119387                     2   BB         Groups                  0   \n",
       "119388                     2   BB         Groups                  0   \n",
       "119389                     2   BB         Groups                  0   \n",
       "\n",
       "        previous_cancellations  previous_bookings_not_canceled  \\\n",
       "0                            0                               0   \n",
       "1                            0                               0   \n",
       "2                            0                               0   \n",
       "3                            0                               0   \n",
       "4                            0                               0   \n",
       "...                        ...                             ...   \n",
       "119385                       0                               0   \n",
       "119386                       0                               0   \n",
       "119387                       0                               0   \n",
       "119388                       0                               0   \n",
       "119389                       0                               0   \n",
       "\n",
       "        booking_changes deposit_type  agent customer_type   adr  kids  \n",
       "0                     3   No Deposit    0.0     Transient   0.0   0.0  \n",
       "1                     4   No Deposit    0.0     Transient   0.0   0.0  \n",
       "2                     0   No Deposit    0.0     Transient  75.0   0.0  \n",
       "3                     0   No Deposit    1.0     Transient  75.0   0.0  \n",
       "4                     0   No Deposit    1.0     Transient  98.0   0.0  \n",
       "...                 ...          ...    ...           ...   ...   ...  \n",
       "119385                0   Non Refund    1.0     Transient  65.0   0.0  \n",
       "119386                0   Non Refund    1.0     Transient  65.0   0.0  \n",
       "119387                0   Non Refund    1.0     Transient  65.0   0.0  \n",
       "119388                2   Non Refund    1.0     Transient  65.0   0.0  \n",
       "119389                2   Non Refund    1.0     Transient  65.0   0.0  \n",
       "\n",
       "[119390 rows x 16 columns]"
      ]
     },
     "execution_count": 618,
     "metadata": {},
     "output_type": "execute_result"
    }
   ],
   "source": [
    "df_ml"
   ]
  },
  {
   "cell_type": "code",
   "execution_count": 619,
   "id": "f568a103",
   "metadata": {},
   "outputs": [
    {
     "name": "stdout",
     "output_type": "stream",
     "text": [
      "<class 'pandas.core.frame.DataFrame'>\n",
      "RangeIndex: 119390 entries, 0 to 119389\n",
      "Data columns (total 16 columns):\n",
      " #   Column                          Non-Null Count   Dtype  \n",
      "---  ------                          --------------   -----  \n",
      " 0   is_canceled                     119390 non-null  int64  \n",
      " 1   lead_time                       119390 non-null  int64  \n",
      " 2   arrival_date_month              119390 non-null  object \n",
      " 3   stays_in_weekend_nights         119390 non-null  int64  \n",
      " 4   stays_in_week_nights            119390 non-null  int64  \n",
      " 5   meal                            119390 non-null  object \n",
      " 6   market_segment                  119390 non-null  object \n",
      " 7   is_repeated_guest               119390 non-null  int64  \n",
      " 8   previous_cancellations          119390 non-null  int64  \n",
      " 9   previous_bookings_not_canceled  119390 non-null  int64  \n",
      " 10  booking_changes                 119390 non-null  int64  \n",
      " 11  deposit_type                    119390 non-null  object \n",
      " 12  agent                           119390 non-null  float64\n",
      " 13  customer_type                   119390 non-null  object \n",
      " 14  adr                             119390 non-null  float64\n",
      " 15  kids                            119390 non-null  float64\n",
      "dtypes: float64(3), int64(8), object(5)\n",
      "memory usage: 14.6+ MB\n"
     ]
    }
   ],
   "source": [
    "df_ml.info()"
   ]
  },
  {
   "cell_type": "code",
   "execution_count": 545,
   "id": "7aa82ba9",
   "metadata": {},
   "outputs": [
    {
     "data": {
      "text/plain": [
       "0    75166\n",
       "1    44224\n",
       "Name: is_canceled, dtype: int64"
      ]
     },
     "execution_count": 545,
     "metadata": {},
     "output_type": "execute_result"
    }
   ],
   "source": [
    "df_ml['is_canceled'].value_counts()"
   ]
  },
  {
   "cell_type": "code",
   "execution_count": 546,
   "id": "d07aee74",
   "metadata": {},
   "outputs": [
    {
     "name": "stdout",
     "output_type": "stream",
     "text": [
      "<class 'pandas.core.frame.DataFrame'>\n",
      "RangeIndex: 119390 entries, 0 to 119389\n",
      "Data columns (total 16 columns):\n",
      " #   Column                          Non-Null Count   Dtype  \n",
      "---  ------                          --------------   -----  \n",
      " 0   is_canceled                     119390 non-null  int64  \n",
      " 1   lead_time                       119390 non-null  int64  \n",
      " 2   arrival_date_month              119390 non-null  object \n",
      " 3   stays_in_weekend_nights         119390 non-null  int64  \n",
      " 4   stays_in_week_nights            119390 non-null  int64  \n",
      " 5   meal                            119390 non-null  object \n",
      " 6   market_segment                  119390 non-null  object \n",
      " 7   is_repeated_guest               119390 non-null  int64  \n",
      " 8   previous_cancellations          119390 non-null  int64  \n",
      " 9   previous_bookings_not_canceled  119390 non-null  int64  \n",
      " 10  booking_changes                 119390 non-null  int64  \n",
      " 11  deposit_type                    119390 non-null  object \n",
      " 12  agent                           119390 non-null  float64\n",
      " 13  customer_type                   119390 non-null  object \n",
      " 14  adr                             119390 non-null  float64\n",
      " 15  kids                            119390 non-null  float64\n",
      "dtypes: float64(3), int64(8), object(5)\n",
      "memory usage: 14.6+ MB\n"
     ]
    }
   ],
   "source": [
    "df_ml.info()"
   ]
  },
  {
   "cell_type": "code",
   "execution_count": 547,
   "id": "c2212288",
   "metadata": {},
   "outputs": [],
   "source": [
    "X = df_ml.drop(['is_canceled'], axis =1)\n",
    "X = pd.get_dummies(X)\n",
    "y = df_ml['is_canceled']\n",
    "\n",
    "X_train, X_test, y_train, y_test = train_test_split(X, y, test_size=0.2, random_state=0)"
   ]
  },
  {
   "cell_type": "code",
   "execution_count": 548,
   "id": "f2b59dc0",
   "metadata": {},
   "outputs": [
    {
     "name": "stdout",
     "output_type": "stream",
     "text": [
      "<class 'pandas.core.frame.DataFrame'>\n",
      "RangeIndex: 119390 entries, 0 to 119389\n",
      "Data columns (total 41 columns):\n",
      " #   Column                          Non-Null Count   Dtype  \n",
      "---  ------                          --------------   -----  \n",
      " 0   lead_time                       119390 non-null  int64  \n",
      " 1   stays_in_weekend_nights         119390 non-null  int64  \n",
      " 2   stays_in_week_nights            119390 non-null  int64  \n",
      " 3   is_repeated_guest               119390 non-null  int64  \n",
      " 4   previous_cancellations          119390 non-null  int64  \n",
      " 5   previous_bookings_not_canceled  119390 non-null  int64  \n",
      " 6   booking_changes                 119390 non-null  int64  \n",
      " 7   agent                           119390 non-null  float64\n",
      " 8   adr                             119390 non-null  float64\n",
      " 9   kids                            119390 non-null  float64\n",
      " 10  arrival_date_month_April        119390 non-null  uint8  \n",
      " 11  arrival_date_month_August       119390 non-null  uint8  \n",
      " 12  arrival_date_month_December     119390 non-null  uint8  \n",
      " 13  arrival_date_month_February     119390 non-null  uint8  \n",
      " 14  arrival_date_month_January      119390 non-null  uint8  \n",
      " 15  arrival_date_month_July         119390 non-null  uint8  \n",
      " 16  arrival_date_month_June         119390 non-null  uint8  \n",
      " 17  arrival_date_month_March        119390 non-null  uint8  \n",
      " 18  arrival_date_month_May          119390 non-null  uint8  \n",
      " 19  arrival_date_month_November     119390 non-null  uint8  \n",
      " 20  arrival_date_month_October      119390 non-null  uint8  \n",
      " 21  arrival_date_month_September    119390 non-null  uint8  \n",
      " 22  meal_BB                         119390 non-null  uint8  \n",
      " 23  meal_FB                         119390 non-null  uint8  \n",
      " 24  meal_HB                         119390 non-null  uint8  \n",
      " 25  meal_Non-meal                   119390 non-null  uint8  \n",
      " 26  market_segment_Aviation         119390 non-null  uint8  \n",
      " 27  market_segment_Complementary    119390 non-null  uint8  \n",
      " 28  market_segment_Corporate        119390 non-null  uint8  \n",
      " 29  market_segment_Direct           119390 non-null  uint8  \n",
      " 30  market_segment_Groups           119390 non-null  uint8  \n",
      " 31  market_segment_Offline TA/TO    119390 non-null  uint8  \n",
      " 32  market_segment_Online TA        119390 non-null  uint8  \n",
      " 33  market_segment_Undefined        119390 non-null  uint8  \n",
      " 34  deposit_type_No Deposit         119390 non-null  uint8  \n",
      " 35  deposit_type_Non Refund         119390 non-null  uint8  \n",
      " 36  deposit_type_Refundable         119390 non-null  uint8  \n",
      " 37  customer_type_Contract          119390 non-null  uint8  \n",
      " 38  customer_type_Group             119390 non-null  uint8  \n",
      " 39  customer_type_Transient         119390 non-null  uint8  \n",
      " 40  customer_type_Transient-Party   119390 non-null  uint8  \n",
      "dtypes: float64(3), int64(7), uint8(31)\n",
      "memory usage: 12.6 MB\n"
     ]
    }
   ],
   "source": [
    "X.info()"
   ]
  },
  {
   "cell_type": "code",
   "execution_count": 549,
   "id": "eb5ad03e",
   "metadata": {},
   "outputs": [],
   "source": [
    "over = RandomOverSampler()\n",
    "X_train, y_train = over.fit_resample(X_train, y_train)\n",
    "df_sample = pd.DataFrame(X_train, columns=X_train.columns)"
   ]
  },
  {
   "cell_type": "code",
   "execution_count": 550,
   "id": "aefa4e46",
   "metadata": {
    "scrolled": false
   },
   "outputs": [
    {
     "data": {
      "text/plain": [
       "0    75166\n",
       "1    44224\n",
       "Name: is_canceled, dtype: int64"
      ]
     },
     "execution_count": 550,
     "metadata": {},
     "output_type": "execute_result"
    }
   ],
   "source": [
    "df_ml['is_canceled'].value_counts()"
   ]
  },
  {
   "cell_type": "code",
   "execution_count": 551,
   "id": "ecfa0e6a",
   "metadata": {},
   "outputs": [
    {
     "data": {
      "text/plain": [
       "0.0    110058\n",
       "1.0      9332\n",
       "Name: kids, dtype: int64"
      ]
     },
     "execution_count": 551,
     "metadata": {},
     "output_type": "execute_result"
    }
   ],
   "source": [
    "df_ml['kids'].value_counts()"
   ]
  },
  {
   "cell_type": "code",
   "execution_count": 552,
   "id": "14879060",
   "metadata": {},
   "outputs": [
    {
     "name": "stderr",
     "output_type": "stream",
     "text": [
      "C:\\ProgramData\\Anaconda3\\lib\\site-packages\\seaborn\\_decorators.py:36: FutureWarning: Pass the following variable as a keyword arg: x. From version 0.12, the only valid positional argument will be `data`, and passing other arguments without an explicit keyword will result in an error or misinterpretation.\n",
      "  warnings.warn(\n"
     ]
    },
    {
     "data": {
      "image/png": "[encoded data removed]",
      "text/plain": [
       "<Figure size 432x288 with 1 Axes>"
      ]
     },
     "metadata": {
      "needs_background": "light"
     },
     "output_type": "display_data"
    }
   ],
   "source": [
    "sns.countplot(y_train);"
   ]
  },
  {
   "cell_type": "code",
   "execution_count": 553,
   "id": "01a61d2a",
   "metadata": {},
   "outputs": [
    {
     "name": "stdout",
     "output_type": "stream",
     "text": [
      "훈련 데이터 점수 : 0.7395241889962479\n",
      "평가 데이터 점수 : 0.746168020772259\n"
     ]
    },
    {
     "name": "stderr",
     "output_type": "stream",
     "text": [
      "C:\\ProgramData\\Anaconda3\\lib\\site-packages\\sklearn\\linear_model\\_logistic.py:763: ConvergenceWarning: lbfgs failed to converge (status=1):\n",
      "STOP: TOTAL NO. of ITERATIONS REACHED LIMIT.\n",
      "\n",
      "Increase the number of iterations (max_iter) or scale the data as shown in:\n",
      "    https://scikit-learn.org/stable/modules/preprocessing.html\n",
      "Please also refer to the documentation for alternative solver options:\n",
      "    https://scikit-learn.org/stable/modules/linear_model.html#logistic-regression\n",
      "  n_iter_i = _check_optimize_result(\n"
     ]
    }
   ],
   "source": [
    "lr = LogisticRegression()\n",
    "lr.fit(X_train, y_train)\n",
    "\n",
    "print('훈련 데이터 점수 : {}'.format(lr.score(X_train, y_train)))\n",
    "print('평가 데이터 점수 : {}'.format(lr.score(X_test, y_test)))"
   ]
  },
  {
   "cell_type": "code",
   "execution_count": 554,
   "id": "9c8f4a5d",
   "metadata": {
    "scrolled": true
   },
   "outputs": [
    {
     "name": "stdout",
     "output_type": "stream",
     "text": [
      "<class 'pandas.core.frame.DataFrame'>\n",
      "RangeIndex: 119390 entries, 0 to 119389\n",
      "Data columns (total 16 columns):\n",
      " #   Column                          Non-Null Count   Dtype  \n",
      "---  ------                          --------------   -----  \n",
      " 0   is_canceled                     119390 non-null  int64  \n",
      " 1   lead_time                       119390 non-null  int64  \n",
      " 2   arrival_date_month              119390 non-null  object \n",
      " 3   stays_in_weekend_nights         119390 non-null  int64  \n",
      " 4   stays_in_week_nights            119390 non-null  int64  \n",
      " 5   meal                            119390 non-null  object \n",
      " 6   market_segment                  119390 non-null  object \n",
      " 7   is_repeated_guest               119390 non-null  int64  \n",
      " 8   previous_cancellations          119390 non-null  int64  \n",
      " 9   previous_bookings_not_canceled  119390 non-null  int64  \n",
      " 10  booking_changes                 119390 non-null  int64  \n",
      " 11  deposit_type                    119390 non-null  object \n",
      " 12  agent                           119390 non-null  float64\n",
      " 13  customer_type                   119390 non-null  object \n",
      " 14  adr                             119390 non-null  float64\n",
      " 15  kids                            119390 non-null  float64\n",
      "dtypes: float64(3), int64(8), object(5)\n",
      "memory usage: 14.6+ MB\n"
     ]
    }
   ],
   "source": [
    "df_ml.info()"
   ]
  },
  {
   "cell_type": "code",
   "execution_count": 555,
   "id": "9d630700",
   "metadata": {},
   "outputs": [],
   "source": [
    "X = df_ml.drop(['is_canceled'], axis =1)\n",
    "X = pd.get_dummies(X)\n",
    "y = df_ml['is_canceled']\n",
    "\n",
    "X_train, X_test, y_train, y_test = train_test_split(X, y, test_size=0.2, random_state=0)\n",
    "\n",
    "over = RandomOverSampler()\n",
    "X_train, y_train = over.fit_resample(X_train, y_train)\n",
    "df_sample = pd.DataFrame(X_train, columns=X_train.columns)"
   ]
  },
  {
   "cell_type": "code",
   "execution_count": 556,
   "id": "16ca7294",
   "metadata": {},
   "outputs": [
    {
     "name": "stdout",
     "output_type": "stream",
     "text": [
      "훈련 데이터 점수 : 0.7415496231364346\n",
      "평가 데이터 점수 : 0.7509422899740347\n"
     ]
    },
    {
     "name": "stderr",
     "output_type": "stream",
     "text": [
      "C:\\ProgramData\\Anaconda3\\lib\\site-packages\\sklearn\\linear_model\\_logistic.py:763: ConvergenceWarning: lbfgs failed to converge (status=1):\n",
      "STOP: TOTAL NO. of ITERATIONS REACHED LIMIT.\n",
      "\n",
      "Increase the number of iterations (max_iter) or scale the data as shown in:\n",
      "    https://scikit-learn.org/stable/modules/preprocessing.html\n",
      "Please also refer to the documentation for alternative solver options:\n",
      "    https://scikit-learn.org/stable/modules/linear_model.html#logistic-regression\n",
      "  n_iter_i = _check_optimize_result(\n"
     ]
    }
   ],
   "source": [
    "lr = LogisticRegression()\n",
    "lr.fit(X_train, y_train)\n",
    "\n",
    "print('훈련 데이터 점수 : {}'.format(lr.score(X_train, y_train)))\n",
    "print('평가 데이터 점수 : {}'.format(lr.score(X_test, y_test)))"
   ]
  },
  {
   "cell_type": "code",
   "execution_count": 557,
   "id": "910cd347",
   "metadata": {
    "scrolled": true
   },
   "outputs": [
    {
     "name": "stdout",
     "output_type": "stream",
     "text": [
      "<class 'pandas.core.frame.DataFrame'>\n",
      "RangeIndex: 119390 entries, 0 to 119389\n",
      "Data columns (total 16 columns):\n",
      " #   Column                          Non-Null Count   Dtype  \n",
      "---  ------                          --------------   -----  \n",
      " 0   is_canceled                     119390 non-null  int64  \n",
      " 1   lead_time                       119390 non-null  int64  \n",
      " 2   arrival_date_month              119390 non-null  object \n",
      " 3   stays_in_weekend_nights         119390 non-null  int64  \n",
      " 4   stays_in_week_nights            119390 non-null  int64  \n",
      " 5   meal                            119390 non-null  object \n",
      " 6   market_segment                  119390 non-null  object \n",
      " 7   is_repeated_guest               119390 non-null  int64  \n",
      " 8   previous_cancellations          119390 non-null  int64  \n",
      " 9   previous_bookings_not_canceled  119390 non-null  int64  \n",
      " 10  booking_changes                 119390 non-null  int64  \n",
      " 11  deposit_type                    119390 non-null  object \n",
      " 12  agent                           119390 non-null  float64\n",
      " 13  customer_type                   119390 non-null  object \n",
      " 14  adr                             119390 non-null  float64\n",
      " 15  kids                            119390 non-null  float64\n",
      "dtypes: float64(3), int64(8), object(5)\n",
      "memory usage: 14.6+ MB\n"
     ]
    }
   ],
   "source": [
    "df_ml.info()"
   ]
  },
  {
   "cell_type": "code",
   "execution_count": 582,
   "id": "94177ea4",
   "metadata": {},
   "outputs": [],
   "source": [
    "df_ml_test = df_ml.drop(['stays_in_weekend_nights', 'stays_in_week_nights', 'meal', 'arrival_date_month', 'kids', 'agent', 'adr', 'booking_changes', ], axis = 1)"
   ]
  },
  {
   "cell_type": "code",
   "execution_count": 607,
   "id": "d03e7a4f",
   "metadata": {},
   "outputs": [],
   "source": [
    "df_ml_test2 = df_ml[['market_segment', 'lead_time', 'customer_type', 'is_canceled']]"
   ]
  },
  {
   "cell_type": "code",
   "execution_count": 608,
   "id": "34dc4d9d",
   "metadata": {},
   "outputs": [
    {
     "data": {
      "text/html": [
       "<div>\n",
       "<style scoped>\n",
       "    .dataframe tbody tr th:only-of-type {\n",
       "        vertical-align: middle;\n",
       "    }\n",
       "\n",
       "    .dataframe tbody tr th {\n",
       "        vertical-align: top;\n",
       "    }\n",
       "\n",
       "    .dataframe thead th {\n",
       "        text-align: right;\n",
       "    }\n",
       "</style>\n",
       "<table border=\"1\" class=\"dataframe\">\n",
       "  <thead>\n",
       "    <tr style=\"text-align: right;\">\n",
       "      <th></th>\n",
       "      <th>market_segment</th>\n",
       "      <th>lead_time</th>\n",
       "      <th>customer_type</th>\n",
       "      <th>is_canceled</th>\n",
       "    </tr>\n",
       "  </thead>\n",
       "  <tbody>\n",
       "    <tr>\n",
       "      <th>0</th>\n",
       "      <td>Direct</td>\n",
       "      <td>342</td>\n",
       "      <td>Transient</td>\n",
       "      <td>0</td>\n",
       "    </tr>\n",
       "    <tr>\n",
       "      <th>1</th>\n",
       "      <td>Direct</td>\n",
       "      <td>737</td>\n",
       "      <td>Transient</td>\n",
       "      <td>0</td>\n",
       "    </tr>\n",
       "    <tr>\n",
       "      <th>2</th>\n",
       "      <td>Direct</td>\n",
       "      <td>7</td>\n",
       "      <td>Transient</td>\n",
       "      <td>0</td>\n",
       "    </tr>\n",
       "    <tr>\n",
       "      <th>3</th>\n",
       "      <td>Corporate</td>\n",
       "      <td>13</td>\n",
       "      <td>Transient</td>\n",
       "      <td>0</td>\n",
       "    </tr>\n",
       "    <tr>\n",
       "      <th>4</th>\n",
       "      <td>Online TA</td>\n",
       "      <td>14</td>\n",
       "      <td>Transient</td>\n",
       "      <td>0</td>\n",
       "    </tr>\n",
       "    <tr>\n",
       "      <th>...</th>\n",
       "      <td>...</td>\n",
       "      <td>...</td>\n",
       "      <td>...</td>\n",
       "      <td>...</td>\n",
       "    </tr>\n",
       "    <tr>\n",
       "      <th>119385</th>\n",
       "      <td>Groups</td>\n",
       "      <td>464</td>\n",
       "      <td>Transient</td>\n",
       "      <td>1</td>\n",
       "    </tr>\n",
       "    <tr>\n",
       "      <th>119386</th>\n",
       "      <td>Groups</td>\n",
       "      <td>464</td>\n",
       "      <td>Transient</td>\n",
       "      <td>1</td>\n",
       "    </tr>\n",
       "    <tr>\n",
       "      <th>119387</th>\n",
       "      <td>Groups</td>\n",
       "      <td>464</td>\n",
       "      <td>Transient</td>\n",
       "      <td>1</td>\n",
       "    </tr>\n",
       "    <tr>\n",
       "      <th>119388</th>\n",
       "      <td>Groups</td>\n",
       "      <td>464</td>\n",
       "      <td>Transient</td>\n",
       "      <td>1</td>\n",
       "    </tr>\n",
       "    <tr>\n",
       "      <th>119389</th>\n",
       "      <td>Groups</td>\n",
       "      <td>464</td>\n",
       "      <td>Transient</td>\n",
       "      <td>1</td>\n",
       "    </tr>\n",
       "  </tbody>\n",
       "</table>\n",
       "<p>119390 rows × 4 columns</p>\n",
       "</div>"
      ],
      "text/plain": [
       "       market_segment  lead_time customer_type  is_canceled\n",
       "0              Direct        342     Transient            0\n",
       "1              Direct        737     Transient            0\n",
       "2              Direct          7     Transient            0\n",
       "3           Corporate         13     Transient            0\n",
       "4           Online TA         14     Transient            0\n",
       "...               ...        ...           ...          ...\n",
       "119385         Groups        464     Transient            1\n",
       "119386         Groups        464     Transient            1\n",
       "119387         Groups        464     Transient            1\n",
       "119388         Groups        464     Transient            1\n",
       "119389         Groups        464     Transient            1\n",
       "\n",
       "[119390 rows x 4 columns]"
      ]
     },
     "execution_count": 608,
     "metadata": {},
     "output_type": "execute_result"
    }
   ],
   "source": [
    "df_ml_test2"
   ]
  },
  {
   "cell_type": "code",
   "execution_count": 583,
   "id": "d2085029",
   "metadata": {
    "scrolled": true
   },
   "outputs": [
    {
     "name": "stdout",
     "output_type": "stream",
     "text": [
      "<class 'pandas.core.frame.DataFrame'>\n",
      "RangeIndex: 119390 entries, 0 to 119389\n",
      "Data columns (total 8 columns):\n",
      " #   Column                          Non-Null Count   Dtype \n",
      "---  ------                          --------------   ----- \n",
      " 0   is_canceled                     119390 non-null  int64 \n",
      " 1   lead_time                       119390 non-null  int64 \n",
      " 2   market_segment                  119390 non-null  object\n",
      " 3   is_repeated_guest               119390 non-null  int64 \n",
      " 4   previous_cancellations          119390 non-null  int64 \n",
      " 5   previous_bookings_not_canceled  119390 non-null  int64 \n",
      " 6   deposit_type                    119390 non-null  object\n",
      " 7   customer_type                   119390 non-null  object\n",
      "dtypes: int64(5), object(3)\n",
      "memory usage: 7.3+ MB\n"
     ]
    }
   ],
   "source": [
    "df_ml_test.info()"
   ]
  },
  {
   "cell_type": "code",
   "execution_count": 621,
   "id": "6276ede6",
   "metadata": {
    "scrolled": true
   },
   "outputs": [
    {
     "name": "stdout",
     "output_type": "stream",
     "text": [
      "훈련 데이터 점수 : 0.6732327257030912\n",
      "평가 데이터 점수 : 0.6858195828796382\n"
     ]
    },
    {
     "name": "stderr",
     "output_type": "stream",
     "text": [
      "C:\\ProgramData\\Anaconda3\\lib\\site-packages\\sklearn\\linear_model\\_logistic.py:763: ConvergenceWarning: lbfgs failed to converge (status=1):\n",
      "STOP: TOTAL NO. of ITERATIONS REACHED LIMIT.\n",
      "\n",
      "Increase the number of iterations (max_iter) or scale the data as shown in:\n",
      "    https://scikit-learn.org/stable/modules/preprocessing.html\n",
      "Please also refer to the documentation for alternative solver options:\n",
      "    https://scikit-learn.org/stable/modules/linear_model.html#logistic-regression\n",
      "  n_iter_i = _check_optimize_result(\n"
     ]
    }
   ],
   "source": [
    "X = df_ml_test2.drop(['is_canceled'], axis =1)\n",
    "X = pd.get_dummies(X)\n",
    "y = df_ml_test2['is_canceled']\n",
    "\n",
    "X_train, X_test, y_train, y_test = train_test_split(X, y, test_size=0.2, random_state=0)\n",
    "\n",
    "over = RandomOverSampler()\n",
    "X_train, y_train = over.fit_resample(X_train, y_train)\n",
    "df_sample = pd.DataFrame(X_train, columns=X_train.columns)\n",
    "\n",
    "lr = LogisticRegression()\n",
    "lr.fit(X_train, y_train)\n",
    "\n",
    "print('훈련 데이터 점수 : {}'.format(lr.score(X_train, y_train)))\n",
    "print('평가 데이터 점수 : {}'.format(lr.score(X_test, y_test)))"
   ]
  },
  {
   "cell_type": "code",
   "execution_count": 646,
   "id": "de38754c",
   "metadata": {},
   "outputs": [
    {
     "name": "stdout",
     "output_type": "stream",
     "text": [
      "2 개 특성을 적용한 score: 0.661\n",
      "3 개 특성을 적용한 score: 0.664\n",
      "4 개 특성을 적용한 score: 0.667\n",
      "5 개 특성을 적용한 score: 0.667\n"
     ]
    },
    {
     "name": "stderr",
     "output_type": "stream",
     "text": [
      "C:\\ProgramData\\Anaconda3\\lib\\site-packages\\sklearn\\linear_model\\_logistic.py:763: ConvergenceWarning: lbfgs failed to converge (status=1):\n",
      "STOP: TOTAL NO. of ITERATIONS REACHED LIMIT.\n",
      "\n",
      "Increase the number of iterations (max_iter) or scale the data as shown in:\n",
      "    https://scikit-learn.org/stable/modules/preprocessing.html\n",
      "Please also refer to the documentation for alternative solver options:\n",
      "    https://scikit-learn.org/stable/modules/linear_model.html#logistic-regression\n",
      "  n_iter_i = _check_optimize_result(\n"
     ]
    },
    {
     "name": "stdout",
     "output_type": "stream",
     "text": [
      "6 개 특성을 적용한 score: 0.666\n"
     ]
    },
    {
     "name": "stderr",
     "output_type": "stream",
     "text": [
      "C:\\ProgramData\\Anaconda3\\lib\\site-packages\\sklearn\\linear_model\\_logistic.py:763: ConvergenceWarning: lbfgs failed to converge (status=1):\n",
      "STOP: TOTAL NO. of ITERATIONS REACHED LIMIT.\n",
      "\n",
      "Increase the number of iterations (max_iter) or scale the data as shown in:\n",
      "    https://scikit-learn.org/stable/modules/preprocessing.html\n",
      "Please also refer to the documentation for alternative solver options:\n",
      "    https://scikit-learn.org/stable/modules/linear_model.html#logistic-regression\n",
      "  n_iter_i = _check_optimize_result(\n"
     ]
    },
    {
     "name": "stdout",
     "output_type": "stream",
     "text": [
      "7 개 특성을 적용한 score: 0.684\n"
     ]
    },
    {
     "name": "stderr",
     "output_type": "stream",
     "text": [
      "C:\\ProgramData\\Anaconda3\\lib\\site-packages\\sklearn\\linear_model\\_logistic.py:763: ConvergenceWarning: lbfgs failed to converge (status=1):\n",
      "STOP: TOTAL NO. of ITERATIONS REACHED LIMIT.\n",
      "\n",
      "Increase the number of iterations (max_iter) or scale the data as shown in:\n",
      "    https://scikit-learn.org/stable/modules/preprocessing.html\n",
      "Please also refer to the documentation for alternative solver options:\n",
      "    https://scikit-learn.org/stable/modules/linear_model.html#logistic-regression\n",
      "  n_iter_i = _check_optimize_result(\n"
     ]
    },
    {
     "name": "stdout",
     "output_type": "stream",
     "text": [
      "8 개 특성을 적용한 score: 0.684\n"
     ]
    },
    {
     "name": "stderr",
     "output_type": "stream",
     "text": [
      "C:\\ProgramData\\Anaconda3\\lib\\site-packages\\sklearn\\linear_model\\_logistic.py:763: ConvergenceWarning: lbfgs failed to converge (status=1):\n",
      "STOP: TOTAL NO. of ITERATIONS REACHED LIMIT.\n",
      "\n",
      "Increase the number of iterations (max_iter) or scale the data as shown in:\n",
      "    https://scikit-learn.org/stable/modules/preprocessing.html\n",
      "Please also refer to the documentation for alternative solver options:\n",
      "    https://scikit-learn.org/stable/modules/linear_model.html#logistic-regression\n",
      "  n_iter_i = _check_optimize_result(\n"
     ]
    },
    {
     "name": "stdout",
     "output_type": "stream",
     "text": [
      "9 개 특성을 적용한 score: 0.697\n"
     ]
    },
    {
     "name": "stderr",
     "output_type": "stream",
     "text": [
      "C:\\ProgramData\\Anaconda3\\lib\\site-packages\\sklearn\\linear_model\\_logistic.py:763: ConvergenceWarning: lbfgs failed to converge (status=1):\n",
      "STOP: TOTAL NO. of ITERATIONS REACHED LIMIT.\n",
      "\n",
      "Increase the number of iterations (max_iter) or scale the data as shown in:\n",
      "    https://scikit-learn.org/stable/modules/preprocessing.html\n",
      "Please also refer to the documentation for alternative solver options:\n",
      "    https://scikit-learn.org/stable/modules/linear_model.html#logistic-regression\n",
      "  n_iter_i = _check_optimize_result(\n"
     ]
    },
    {
     "name": "stdout",
     "output_type": "stream",
     "text": [
      "10 개 특성을 적용한 score: 0.698\n"
     ]
    },
    {
     "name": "stderr",
     "output_type": "stream",
     "text": [
      "C:\\ProgramData\\Anaconda3\\lib\\site-packages\\sklearn\\linear_model\\_logistic.py:763: ConvergenceWarning: lbfgs failed to converge (status=1):\n",
      "STOP: TOTAL NO. of ITERATIONS REACHED LIMIT.\n",
      "\n",
      "Increase the number of iterations (max_iter) or scale the data as shown in:\n",
      "    https://scikit-learn.org/stable/modules/preprocessing.html\n",
      "Please also refer to the documentation for alternative solver options:\n",
      "    https://scikit-learn.org/stable/modules/linear_model.html#logistic-regression\n",
      "  n_iter_i = _check_optimize_result(\n"
     ]
    },
    {
     "name": "stdout",
     "output_type": "stream",
     "text": [
      "11 개 특성을 적용한 score: 0.710\n"
     ]
    },
    {
     "name": "stderr",
     "output_type": "stream",
     "text": [
      "C:\\ProgramData\\Anaconda3\\lib\\site-packages\\sklearn\\linear_model\\_logistic.py:763: ConvergenceWarning: lbfgs failed to converge (status=1):\n",
      "STOP: TOTAL NO. of ITERATIONS REACHED LIMIT.\n",
      "\n",
      "Increase the number of iterations (max_iter) or scale the data as shown in:\n",
      "    https://scikit-learn.org/stable/modules/preprocessing.html\n",
      "Please also refer to the documentation for alternative solver options:\n",
      "    https://scikit-learn.org/stable/modules/linear_model.html#logistic-regression\n",
      "  n_iter_i = _check_optimize_result(\n"
     ]
    },
    {
     "name": "stdout",
     "output_type": "stream",
     "text": [
      "12 개 특성을 적용한 score: 0.773\n"
     ]
    },
    {
     "name": "stderr",
     "output_type": "stream",
     "text": [
      "C:\\ProgramData\\Anaconda3\\lib\\site-packages\\sklearn\\linear_model\\_logistic.py:763: ConvergenceWarning: lbfgs failed to converge (status=1):\n",
      "STOP: TOTAL NO. of ITERATIONS REACHED LIMIT.\n",
      "\n",
      "Increase the number of iterations (max_iter) or scale the data as shown in:\n",
      "    https://scikit-learn.org/stable/modules/preprocessing.html\n",
      "Please also refer to the documentation for alternative solver options:\n",
      "    https://scikit-learn.org/stable/modules/linear_model.html#logistic-regression\n",
      "  n_iter_i = _check_optimize_result(\n"
     ]
    },
    {
     "name": "stdout",
     "output_type": "stream",
     "text": [
      "13 개 특성을 적용한 score: 0.773\n"
     ]
    },
    {
     "name": "stderr",
     "output_type": "stream",
     "text": [
      "C:\\ProgramData\\Anaconda3\\lib\\site-packages\\sklearn\\linear_model\\_logistic.py:763: ConvergenceWarning: lbfgs failed to converge (status=1):\n",
      "STOP: TOTAL NO. of ITERATIONS REACHED LIMIT.\n",
      "\n",
      "Increase the number of iterations (max_iter) or scale the data as shown in:\n",
      "    https://scikit-learn.org/stable/modules/preprocessing.html\n",
      "Please also refer to the documentation for alternative solver options:\n",
      "    https://scikit-learn.org/stable/modules/linear_model.html#logistic-regression\n",
      "  n_iter_i = _check_optimize_result(\n"
     ]
    },
    {
     "name": "stdout",
     "output_type": "stream",
     "text": [
      "14 개 특성을 적용한 score: 0.775\n",
      "15 개 특성을 적용한 score: 0.773\n"
     ]
    },
    {
     "name": "stderr",
     "output_type": "stream",
     "text": [
      "C:\\ProgramData\\Anaconda3\\lib\\site-packages\\sklearn\\linear_model\\_logistic.py:763: ConvergenceWarning: lbfgs failed to converge (status=1):\n",
      "STOP: TOTAL NO. of ITERATIONS REACHED LIMIT.\n",
      "\n",
      "Increase the number of iterations (max_iter) or scale the data as shown in:\n",
      "    https://scikit-learn.org/stable/modules/preprocessing.html\n",
      "Please also refer to the documentation for alternative solver options:\n",
      "    https://scikit-learn.org/stable/modules/linear_model.html#logistic-regression\n",
      "  n_iter_i = _check_optimize_result(\n"
     ]
    }
   ],
   "source": [
    "for i in range(2,16):\n",
    "    X = df_ml.iloc[:, 1:i]\n",
    "    y = df_ml.iloc[:, 0]\n",
    "    \n",
    "    X = pd.get_dummies(X)\n",
    "    \n",
    "    \n",
    "    X_train, X_test, y_train, y_test = train_test_split(X, y, random_state=42)\n",
    "    \n",
    "    \n",
    "    lr = LogisticRegression()\n",
    "    lr.fit(X_train, y_train)\n",
    "    \n",
    "    print(i, \"개 특성을 적용한 score: {:.3f}\".format(lr.score(X_test, y_test)))"
   ]
  },
  {
   "cell_type": "code",
   "execution_count": null,
   "id": "30513a8c",
   "metadata": {},
   "outputs": [],
   "source": [
    "def plot_feature_importances(model):\n",
    "    n_features = X_train.shape[1]\n",
    "    plt.barh(np.arange(n_features), np.sort(model.feature_importances_)[::-1], align = 'center')\n",
    "    plt.yticks(np.arange(n_features), bean_features_sorted)\n",
    "    plt.xlabel(\"feature importances\")\n",
    "    plt.ylabel(\"features\")\n",
    "    plt.ylim(-1, n_features)\n",
    "    \n",
    "plot_feature_importances_beans(forest)"
   ]
  }
 ],
 "metadata": {
  "kernelspec": {
   "display_name": "Python 3",
   "language": "python",
   "name": "python3"
  },
  "language_info": {
   "codemirror_mode": {
    "name": "ipython",
    "version": 3
   },
   "file_extension": ".py",
   "mimetype": "text/x-python",
   "name": "python",
   "nbconvert_exporter": "python",
   "pygments_lexer": "ipython3",
   "version": "3.8.8"
  }
 },
 "nbformat": 4,
 "nbformat_minor": 5
}
