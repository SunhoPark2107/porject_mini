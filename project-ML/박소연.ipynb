{
 "cells": [
  {
   "cell_type": "code",
   "execution_count": 1,
   "id": "81f81155",
   "metadata": {},
   "outputs": [],
   "source": [
    "import pandas as pd\n",
    "from sklearn.linear_model import LogisticRegression\n",
    "import matplotlib.pyplot as plt\n",
    "import numpy as np\n",
    "from sklearn.model_selection import GridSearchCV, train_test_split\n",
    "from sklearn.preprocessing import StandardScaler\n",
    "from sklearn.model_selection import cross_val_score\n",
    "from sklearn.model_selection import cross_validate\n",
    "from sklearn.ensemble import RandomForestClassifier\n",
    "from sklearn.neighbors import KNeighborsClassifier\n",
    "from sklearn.manifold import TSNE\n",
    "from sklearn.linear_model import SGDClassifier\n",
    "from sklearn.pipeline import make_pipeline\n",
    "# !pip install imblearn\n",
    "from imblearn.over_sampling import RandomOverSampler\n",
    "import seaborn as sns\n",
    "\n",
    "import graphviz\n",
    "from sklearn import tree\n",
    "from sklearn.tree import DecisionTreeClassifier\n",
    "from sklearn.model_selection import cross_val_score"
   ]
  },
  {
   "cell_type": "code",
   "execution_count": 2,
   "id": "064c4b15",
   "metadata": {},
   "outputs": [],
   "source": [
    "df = pd.read_csv('C:/workspace/Python/머신러닝 플젝/hotel_bookings_cancel.csv', header = 0)"
   ]
  },
  {
   "cell_type": "code",
   "execution_count": 3,
   "id": "b7018a8a",
   "metadata": {},
   "outputs": [],
   "source": [
    "# reservation_status 열 제거\n",
    "\n",
    "df = df.drop(['reservation_status'], axis = 1)\n",
    "\n",
    "# chilsdren, babies 의 결측치 제거한 후 둘의 수를 더한 후, 자녀의 유무를 0, 1로 나타낸 \n",
    "# kids 열 생성.\n",
    "\n",
    "df['children'] = df['children'].fillna(0)\n",
    "df['babies'] = df['babies'].fillna(0)\n",
    "df[\"kids\"] = df[\"children\"] + df[\"babies\"]\n",
    "df.loc[df.kids != 0, 'kids'] = 1\n",
    "\n",
    "# total_guest열 생성.\n",
    "df['total_guest'] = df['adults'] + df['children'] +df['kids']\n",
    "\n",
    "# agent 결측치 제거 후 agent의 유무를 0, 1 로 나타냄.\n",
    "df['agent'] = df['agent'].fillna(0)\n",
    "df.loc[df.agent != 0,'agent'] = 1 #df[df.loc[df['agent'] != 0]] = 1"
   ]
  },
  {
   "cell_type": "code",
   "execution_count": 4,
   "id": "a8b9a493",
   "metadata": {},
   "outputs": [
    {
     "name": "stdout",
     "output_type": "stream",
     "text": [
      "(119390, 25) (119390, 17)\n"
     ]
    }
   ],
   "source": [
    "# 전처리 끝난 후 원본 데이터를 건드리지 않는 ml 데이터를 따로 만듦.\n",
    "# (특성 가변적으로 선택하기 위해)\n",
    "\n",
    "df_ml = df.drop([\"adults\", \"children\", \"babies\", \"assigned_room_type\", \"reserved_room_type\",\"arrival_date_day_of_month\", \"required_car_parking_spaces\", \"total_of_special_requests\"], axis = 1)\n",
    "print(df.shape, df_ml.shape)"
   ]
  },
  {
   "cell_type": "markdown",
   "id": "0642f70d",
   "metadata": {},
   "source": [
    "df[\"total_guest\"] = df[\"adults\"] + df[\"children\"] + df[\"babies\"]\n",
    "df.shape\n",
    "df[\"total_nights\"] = df[\"stays_in_weekend_nights\"]+ df[\"stays_in_week_nights\"]"
   ]
  },
  {
   "cell_type": "code",
   "execution_count": 5,
   "id": "521b85a9",
   "metadata": {},
   "outputs": [],
   "source": [
    "over = RandomOverSampler()"
   ]
  },
  {
   "cell_type": "code",
   "execution_count": 6,
   "id": "c2212288",
   "metadata": {},
   "outputs": [],
   "source": [
    "# X와 y 만들고, 범주형 변수를 머신러닝에 활용하기 위해 더미화.\n",
    "# 훈련, 테스트 셋으로 만들기.\n",
    "\n",
    "X = df_ml.drop(['is_canceled'], axis =1)\n",
    "X = pd.get_dummies(X)\n",
    "y = df_ml['is_canceled']\n",
    "\n",
    "X_train, X_test, y_train, y_test = train_test_split(X, y, test_size=0.2, random_state=0)"
   ]
  },
  {
   "cell_type": "code",
   "execution_count": 7,
   "id": "eb5ad03e",
   "metadata": {
    "scrolled": true
   },
   "outputs": [
    {
     "name": "stderr",
     "output_type": "stream",
     "text": [
      "C:\\ProgramData\\Anaconda3\\lib\\site-packages\\seaborn\\_decorators.py:36: FutureWarning: Pass the following variable as a keyword arg: x. From version 0.12, the only valid positional argument will be `data`, and passing other arguments without an explicit keyword will result in an error or misinterpretation.\n",
      "  warnings.warn(\n"
     ]
    },
    {
     "data": {
      "image/png": "[encoded data removed]",
      "text/plain": [
       "<Figure size 432x288 with 1 Axes>"
      ]
     },
     "metadata": {
      "needs_background": "light"
     },
     "output_type": "display_data"
    }
   ],
   "source": [
    "X_train, y_train = over.fit_resample(X_train, y_train)\n",
    "df_sample = pd.DataFrame(X_train, columns=X_train.columns)\n",
    "\n",
    "sns.countplot(y_train);"
   ]
  },
  {
   "cell_type": "code",
   "execution_count": 8,
   "id": "4596cd9c",
   "metadata": {},
   "outputs": [
    {
     "data": {
      "text/plain": [
       "0    75166\n",
       "1    44224\n",
       "Name: is_canceled, dtype: int64"
      ]
     },
     "execution_count": 8,
     "metadata": {},
     "output_type": "execute_result"
    }
   ],
   "source": [
    "y.value_counts()"
   ]
  },
  {
   "cell_type": "code",
   "execution_count": 9,
   "id": "01a61d2a",
   "metadata": {},
   "outputs": [
    {
     "name": "stdout",
     "output_type": "stream",
     "text": [
      "훈련 데이터 점수 : 0.7376647740478799\n",
      "평가 데이터 점수 : 0.7501884579948069\n"
     ]
    },
    {
     "name": "stderr",
     "output_type": "stream",
     "text": [
      "C:\\ProgramData\\Anaconda3\\lib\\site-packages\\sklearn\\linear_model\\_logistic.py:763: ConvergenceWarning: lbfgs failed to converge (status=1):\n",
      "STOP: TOTAL NO. of ITERATIONS REACHED LIMIT.\n",
      "\n",
      "Increase the number of iterations (max_iter) or scale the data as shown in:\n",
      "    https://scikit-learn.org/stable/modules/preprocessing.html\n",
      "Please also refer to the documentation for alternative solver options:\n",
      "    https://scikit-learn.org/stable/modules/linear_model.html#logistic-regression\n",
      "  n_iter_i = _check_optimize_result(\n"
     ]
    }
   ],
   "source": [
    "lr = LogisticRegression()\n",
    "lr.fit(X_train, y_train)\n",
    "\n",
    "print('훈련 데이터 점수 : {}'.format(lr.score(X_train, y_train)))\n",
    "print('평가 데이터 점수 : {}'.format(lr.score(X_test, y_test)))"
   ]
  },
  {
   "cell_type": "code",
   "execution_count": 10,
   "id": "9c8f4a5d",
   "metadata": {},
   "outputs": [
    {
     "name": "stdout",
     "output_type": "stream",
     "text": [
      "<class 'pandas.core.frame.DataFrame'>\n",
      "RangeIndex: 119390 entries, 0 to 119389\n",
      "Data columns (total 17 columns):\n",
      " #   Column                          Non-Null Count   Dtype  \n",
      "---  ------                          --------------   -----  \n",
      " 0   is_canceled                     119390 non-null  int64  \n",
      " 1   lead_time                       119390 non-null  int64  \n",
      " 2   arrival_date_month              119390 non-null  object \n",
      " 3   stays_in_weekend_nights         119390 non-null  int64  \n",
      " 4   stays_in_week_nights            119390 non-null  int64  \n",
      " 5   meal                            119390 non-null  object \n",
      " 6   market_segment                  119390 non-null  object \n",
      " 7   is_repeated_guest               119390 non-null  int64  \n",
      " 8   previous_cancellations          119390 non-null  int64  \n",
      " 9   previous_bookings_not_canceled  119390 non-null  int64  \n",
      " 10  booking_changes                 119390 non-null  int64  \n",
      " 11  deposit_type                    119390 non-null  object \n",
      " 12  agent                           119390 non-null  float64\n",
      " 13  customer_type                   119390 non-null  object \n",
      " 14  adr                             119390 non-null  float64\n",
      " 15  kids                            119390 non-null  float64\n",
      " 16  total_guest                     119390 non-null  float64\n",
      "dtypes: float64(4), int64(8), object(5)\n",
      "memory usage: 15.5+ MB\n"
     ]
    }
   ],
   "source": [
    "df_ml.info()"
   ]
  },
  {
   "cell_type": "code",
   "execution_count": 11,
   "id": "9d630700",
   "metadata": {},
   "outputs": [],
   "source": [
    "# X, y 나누고 더미화, 오버샘플링(복원추출 통해 0, 1 값 균등하게 맞추기.)\n",
    "X = df_ml.drop(['is_canceled'], axis =1)\n",
    "X = pd.get_dummies(X)\n",
    "y = df_ml['is_canceled']\n",
    "\n",
    "X_train, X_test, y_train, y_test = train_test_split(X, y, test_size=0.2, random_state=0)\n",
    "\n",
    "over = RandomOverSampler()\n",
    "X_train, y_train = over.fit_resample(X_train, y_train)\n",
    "df_sample = pd.DataFrame(X_train, columns=X_train.columns)"
   ]
  },
  {
   "cell_type": "code",
   "execution_count": 12,
   "id": "16ca7294",
   "metadata": {},
   "outputs": [
    {
     "name": "stdout",
     "output_type": "stream",
     "text": [
      "훈련 데이터 점수 : 0.7385114719261546\n",
      "평가 데이터 점수 : 0.7475919256219113\n"
     ]
    },
    {
     "name": "stderr",
     "output_type": "stream",
     "text": [
      "C:\\ProgramData\\Anaconda3\\lib\\site-packages\\sklearn\\linear_model\\_logistic.py:763: ConvergenceWarning: lbfgs failed to converge (status=1):\n",
      "STOP: TOTAL NO. of ITERATIONS REACHED LIMIT.\n",
      "\n",
      "Increase the number of iterations (max_iter) or scale the data as shown in:\n",
      "    https://scikit-learn.org/stable/modules/preprocessing.html\n",
      "Please also refer to the documentation for alternative solver options:\n",
      "    https://scikit-learn.org/stable/modules/linear_model.html#logistic-regression\n",
      "  n_iter_i = _check_optimize_result(\n"
     ]
    }
   ],
   "source": [
    "lr = LogisticRegression()\n",
    "lr.fit(X_train, y_train)\n",
    "\n",
    "print('훈련 데이터 점수 : {}'.format(lr.score(X_train, y_train)))\n",
    "print('평가 데이터 점수 : {}'.format(lr.score(X_test, y_test)))"
   ]
  },
  {
   "cell_type": "code",
   "execution_count": 13,
   "id": "de38754c",
   "metadata": {
    "scrolled": true
   },
   "outputs": [
    {
     "name": "stdout",
     "output_type": "stream",
     "text": [
      "앞쪽부터 2 개 특성을 적용한 train-score: 0.613\n",
      "앞쪽부터 2 개 특성을 적용한 test-score: 0.640\n",
      "앞쪽부터 3 개 특성을 적용한 train-score: 0.621\n",
      "앞쪽부터 3 개 특성을 적용한 test-score: 0.641\n",
      "앞쪽부터 4 개 특성을 적용한 train-score: 0.623\n",
      "앞쪽부터 4 개 특성을 적용한 test-score: 0.643\n",
      "앞쪽부터 5 개 특성을 적용한 train-score: 0.620\n",
      "앞쪽부터 5 개 특성을 적용한 test-score: 0.643\n"
     ]
    },
    {
     "name": "stderr",
     "output_type": "stream",
     "text": [
      "C:\\ProgramData\\Anaconda3\\lib\\site-packages\\sklearn\\linear_model\\_logistic.py:763: ConvergenceWarning: lbfgs failed to converge (status=1):\n",
      "STOP: TOTAL NO. of ITERATIONS REACHED LIMIT.\n",
      "\n",
      "Increase the number of iterations (max_iter) or scale the data as shown in:\n",
      "    https://scikit-learn.org/stable/modules/preprocessing.html\n",
      "Please also refer to the documentation for alternative solver options:\n",
      "    https://scikit-learn.org/stable/modules/linear_model.html#logistic-regression\n",
      "  n_iter_i = _check_optimize_result(\n"
     ]
    },
    {
     "name": "stdout",
     "output_type": "stream",
     "text": [
      "앞쪽부터 6 개 특성을 적용한 train-score: 0.628\n",
      "앞쪽부터 6 개 특성을 적용한 test-score: 0.647\n"
     ]
    },
    {
     "name": "stderr",
     "output_type": "stream",
     "text": [
      "C:\\ProgramData\\Anaconda3\\lib\\site-packages\\sklearn\\linear_model\\_logistic.py:763: ConvergenceWarning: lbfgs failed to converge (status=1):\n",
      "STOP: TOTAL NO. of ITERATIONS REACHED LIMIT.\n",
      "\n",
      "Increase the number of iterations (max_iter) or scale the data as shown in:\n",
      "    https://scikit-learn.org/stable/modules/preprocessing.html\n",
      "Please also refer to the documentation for alternative solver options:\n",
      "    https://scikit-learn.org/stable/modules/linear_model.html#logistic-regression\n",
      "  n_iter_i = _check_optimize_result(\n"
     ]
    },
    {
     "name": "stdout",
     "output_type": "stream",
     "text": [
      "앞쪽부터 7 개 특성을 적용한 train-score: 0.649\n",
      "앞쪽부터 7 개 특성을 적용한 test-score: 0.658\n"
     ]
    },
    {
     "name": "stderr",
     "output_type": "stream",
     "text": [
      "C:\\ProgramData\\Anaconda3\\lib\\site-packages\\sklearn\\linear_model\\_logistic.py:763: ConvergenceWarning: lbfgs failed to converge (status=1):\n",
      "STOP: TOTAL NO. of ITERATIONS REACHED LIMIT.\n",
      "\n",
      "Increase the number of iterations (max_iter) or scale the data as shown in:\n",
      "    https://scikit-learn.org/stable/modules/preprocessing.html\n",
      "Please also refer to the documentation for alternative solver options:\n",
      "    https://scikit-learn.org/stable/modules/linear_model.html#logistic-regression\n",
      "  n_iter_i = _check_optimize_result(\n"
     ]
    },
    {
     "name": "stdout",
     "output_type": "stream",
     "text": [
      "앞쪽부터 8 개 특성을 적용한 train-score: 0.649\n",
      "앞쪽부터 8 개 특성을 적용한 test-score: 0.660\n"
     ]
    },
    {
     "name": "stderr",
     "output_type": "stream",
     "text": [
      "C:\\ProgramData\\Anaconda3\\lib\\site-packages\\sklearn\\linear_model\\_logistic.py:763: ConvergenceWarning: lbfgs failed to converge (status=1):\n",
      "STOP: TOTAL NO. of ITERATIONS REACHED LIMIT.\n",
      "\n",
      "Increase the number of iterations (max_iter) or scale the data as shown in:\n",
      "    https://scikit-learn.org/stable/modules/preprocessing.html\n",
      "Please also refer to the documentation for alternative solver options:\n",
      "    https://scikit-learn.org/stable/modules/linear_model.html#logistic-regression\n",
      "  n_iter_i = _check_optimize_result(\n"
     ]
    },
    {
     "name": "stdout",
     "output_type": "stream",
     "text": [
      "앞쪽부터 9 개 특성을 적용한 train-score: 0.661\n",
      "앞쪽부터 9 개 특성을 적용한 test-score: 0.675\n"
     ]
    },
    {
     "name": "stderr",
     "output_type": "stream",
     "text": [
      "C:\\ProgramData\\Anaconda3\\lib\\site-packages\\sklearn\\linear_model\\_logistic.py:763: ConvergenceWarning: lbfgs failed to converge (status=1):\n",
      "STOP: TOTAL NO. of ITERATIONS REACHED LIMIT.\n",
      "\n",
      "Increase the number of iterations (max_iter) or scale the data as shown in:\n",
      "    https://scikit-learn.org/stable/modules/preprocessing.html\n",
      "Please also refer to the documentation for alternative solver options:\n",
      "    https://scikit-learn.org/stable/modules/linear_model.html#logistic-regression\n",
      "  n_iter_i = _check_optimize_result(\n"
     ]
    },
    {
     "name": "stdout",
     "output_type": "stream",
     "text": [
      "앞쪽부터 10 개 특성을 적용한 train-score: 0.666\n",
      "앞쪽부터 10 개 특성을 적용한 test-score: 0.674\n"
     ]
    },
    {
     "name": "stderr",
     "output_type": "stream",
     "text": [
      "C:\\ProgramData\\Anaconda3\\lib\\site-packages\\sklearn\\linear_model\\_logistic.py:763: ConvergenceWarning: lbfgs failed to converge (status=1):\n",
      "STOP: TOTAL NO. of ITERATIONS REACHED LIMIT.\n",
      "\n",
      "Increase the number of iterations (max_iter) or scale the data as shown in:\n",
      "    https://scikit-learn.org/stable/modules/preprocessing.html\n",
      "Please also refer to the documentation for alternative solver options:\n",
      "    https://scikit-learn.org/stable/modules/linear_model.html#logistic-regression\n",
      "  n_iter_i = _check_optimize_result(\n"
     ]
    },
    {
     "name": "stdout",
     "output_type": "stream",
     "text": [
      "앞쪽부터 11 개 특성을 적용한 train-score: 0.683\n",
      "앞쪽부터 11 개 특성을 적용한 test-score: 0.685\n"
     ]
    },
    {
     "name": "stderr",
     "output_type": "stream",
     "text": [
      "C:\\ProgramData\\Anaconda3\\lib\\site-packages\\sklearn\\linear_model\\_logistic.py:763: ConvergenceWarning: lbfgs failed to converge (status=1):\n",
      "STOP: TOTAL NO. of ITERATIONS REACHED LIMIT.\n",
      "\n",
      "Increase the number of iterations (max_iter) or scale the data as shown in:\n",
      "    https://scikit-learn.org/stable/modules/preprocessing.html\n",
      "Please also refer to the documentation for alternative solver options:\n",
      "    https://scikit-learn.org/stable/modules/linear_model.html#logistic-regression\n",
      "  n_iter_i = _check_optimize_result(\n"
     ]
    },
    {
     "name": "stdout",
     "output_type": "stream",
     "text": [
      "앞쪽부터 12 개 특성을 적용한 train-score: 0.732\n",
      "앞쪽부터 12 개 특성을 적용한 test-score: 0.752\n"
     ]
    },
    {
     "name": "stderr",
     "output_type": "stream",
     "text": [
      "C:\\ProgramData\\Anaconda3\\lib\\site-packages\\sklearn\\linear_model\\_logistic.py:763: ConvergenceWarning: lbfgs failed to converge (status=1):\n",
      "STOP: TOTAL NO. of ITERATIONS REACHED LIMIT.\n",
      "\n",
      "Increase the number of iterations (max_iter) or scale the data as shown in:\n",
      "    https://scikit-learn.org/stable/modules/preprocessing.html\n",
      "Please also refer to the documentation for alternative solver options:\n",
      "    https://scikit-learn.org/stable/modules/linear_model.html#logistic-regression\n",
      "  n_iter_i = _check_optimize_result(\n"
     ]
    },
    {
     "name": "stdout",
     "output_type": "stream",
     "text": [
      "앞쪽부터 13 개 특성을 적용한 train-score: 0.732\n",
      "앞쪽부터 13 개 특성을 적용한 test-score: 0.751\n"
     ]
    },
    {
     "name": "stderr",
     "output_type": "stream",
     "text": [
      "C:\\ProgramData\\Anaconda3\\lib\\site-packages\\sklearn\\linear_model\\_logistic.py:763: ConvergenceWarning: lbfgs failed to converge (status=1):\n",
      "STOP: TOTAL NO. of ITERATIONS REACHED LIMIT.\n",
      "\n",
      "Increase the number of iterations (max_iter) or scale the data as shown in:\n",
      "    https://scikit-learn.org/stable/modules/preprocessing.html\n",
      "Please also refer to the documentation for alternative solver options:\n",
      "    https://scikit-learn.org/stable/modules/linear_model.html#logistic-regression\n",
      "  n_iter_i = _check_optimize_result(\n"
     ]
    },
    {
     "name": "stdout",
     "output_type": "stream",
     "text": [
      "앞쪽부터 14 개 특성을 적용한 train-score: 0.739\n",
      "앞쪽부터 14 개 특성을 적용한 test-score: 0.755\n"
     ]
    },
    {
     "name": "stderr",
     "output_type": "stream",
     "text": [
      "C:\\ProgramData\\Anaconda3\\lib\\site-packages\\sklearn\\linear_model\\_logistic.py:763: ConvergenceWarning: lbfgs failed to converge (status=1):\n",
      "STOP: TOTAL NO. of ITERATIONS REACHED LIMIT.\n",
      "\n",
      "Increase the number of iterations (max_iter) or scale the data as shown in:\n",
      "    https://scikit-learn.org/stable/modules/preprocessing.html\n",
      "Please also refer to the documentation for alternative solver options:\n",
      "    https://scikit-learn.org/stable/modules/linear_model.html#logistic-regression\n",
      "  n_iter_i = _check_optimize_result(\n"
     ]
    },
    {
     "name": "stdout",
     "output_type": "stream",
     "text": [
      "앞쪽부터 15 개 특성을 적용한 train-score: 0.737\n",
      "앞쪽부터 15 개 특성을 적용한 test-score: 0.753\n",
      "앞쪽부터 16 개 특성을 적용한 train-score: 0.741\n",
      "앞쪽부터 16 개 특성을 적용한 test-score: 0.748\n"
     ]
    },
    {
     "name": "stderr",
     "output_type": "stream",
     "text": [
      "C:\\ProgramData\\Anaconda3\\lib\\site-packages\\sklearn\\linear_model\\_logistic.py:763: ConvergenceWarning: lbfgs failed to converge (status=1):\n",
      "STOP: TOTAL NO. of ITERATIONS REACHED LIMIT.\n",
      "\n",
      "Increase the number of iterations (max_iter) or scale the data as shown in:\n",
      "    https://scikit-learn.org/stable/modules/preprocessing.html\n",
      "Please also refer to the documentation for alternative solver options:\n",
      "    https://scikit-learn.org/stable/modules/linear_model.html#logistic-regression\n",
      "  n_iter_i = _check_optimize_result(\n"
     ]
    }
   ],
   "source": [
    "# 앞쪽 특성부터 하나하나 적용한 결과.\n",
    "for i in range(2,17):\n",
    "    X = df_ml.iloc[:, 1:i]\n",
    "    y = df_ml.iloc[:, 0]\n",
    "    \n",
    "    X = pd.get_dummies(X)\n",
    "    \n",
    "    \n",
    "    X_train, X_test, y_train, y_test = train_test_split(X, y, random_state=42)\n",
    "    \n",
    "    X_train, y_train = over.fit_resample(X_train, y_train)\n",
    "    df_sample = pd.DataFrame(X_train, columns=X_train.columns)\n",
    "    \n",
    "    \n",
    "    lr = LogisticRegression()\n",
    "    lr.fit(X_train, y_train)\n",
    "    \n",
    "    print(\"앞쪽부터\", i, \"개 특성을 적용한 train-score: {:.3f}\".format(lr.score(X_train, y_train)))\n",
    "    print(\"앞쪽부터\", i, \"개 특성을 적용한 test-score: {:.3f}\".format(lr.score(X_test, y_test)))"
   ]
  },
  {
   "cell_type": "code",
   "execution_count": 14,
   "id": "24203718",
   "metadata": {
    "scrolled": true
   },
   "outputs": [
    {
     "name": "stdout",
     "output_type": "stream",
     "text": [
      "<class 'pandas.core.frame.DataFrame'>\n",
      "RangeIndex: 119390 entries, 0 to 119389\n",
      "Data columns (total 17 columns):\n",
      " #   Column                          Non-Null Count   Dtype  \n",
      "---  ------                          --------------   -----  \n",
      " 0   is_canceled                     119390 non-null  int64  \n",
      " 1   lead_time                       119390 non-null  int64  \n",
      " 2   arrival_date_month              119390 non-null  object \n",
      " 3   stays_in_weekend_nights         119390 non-null  int64  \n",
      " 4   stays_in_week_nights            119390 non-null  int64  \n",
      " 5   meal                            119390 non-null  object \n",
      " 6   market_segment                  119390 non-null  object \n",
      " 7   is_repeated_guest               119390 non-null  int64  \n",
      " 8   previous_cancellations          119390 non-null  int64  \n",
      " 9   previous_bookings_not_canceled  119390 non-null  int64  \n",
      " 10  booking_changes                 119390 non-null  int64  \n",
      " 11  deposit_type                    119390 non-null  object \n",
      " 12  agent                           119390 non-null  float64\n",
      " 13  customer_type                   119390 non-null  object \n",
      " 14  adr                             119390 non-null  float64\n",
      " 15  kids                            119390 non-null  float64\n",
      " 16  total_guest                     119390 non-null  float64\n",
      "dtypes: float64(4), int64(8), object(5)\n",
      "memory usage: 15.5+ MB\n"
     ]
    }
   ],
   "source": [
    "# 최종 확정된 데이터\n",
    "df_ml.info()"
   ]
  },
  {
   "cell_type": "code",
   "execution_count": 15,
   "id": "2c2edd4a",
   "metadata": {},
   "outputs": [],
   "source": [
    "# X, y 나누고 더미화, 오버샘플링(복원추출 통해 0, 1 값 균등하게 맞추기.), 스케일링\n",
    "X = df_ml.drop(['is_canceled'], axis =1)\n",
    "X = pd.get_dummies(X)\n",
    "y = df_ml['is_canceled']\n",
    "\n",
    "# X, y 나누기\n",
    "\n",
    "X_train, X_test, y_train, y_test = train_test_split(X, y, test_size=0.2, random_state=0)\n",
    "\n",
    "# 오버샘플링\n",
    "over = RandomOverSampler()\n",
    "X_train, y_train = over.fit_resample(X_train, y_train)\n",
    "df_sample = pd.DataFrame(X_train, columns=X_train.columns)\n",
    "\n",
    "# X 값 스케일링\n",
    "scaler = StandardScaler()\n",
    "X_train_s = scaler.fit_transform(X_train)\n",
    "X_test_s = scaler.transform(X_test)"
   ]
  },
  {
   "cell_type": "code",
   "execution_count": 16,
   "id": "64f286c2",
   "metadata": {},
   "outputs": [
    {
     "name": "stdout",
     "output_type": "stream",
     "text": [
      "train set score is 0.777\n",
      "test set score is 0.765\n"
     ]
    }
   ],
   "source": [
    "# 랜덤포레스트 모델 적용\n",
    "# 랜덤포레스트는 전처리가 필요 없으므로 스케일링 되지 않은 X값 사용.\n",
    "\n",
    "from sklearn.ensemble import RandomForestClassifier\n",
    "forest = RandomForestClassifier(n_estimators = 100, max_depth  = 12, random_state = 42)\n",
    "forest.fit(X_train, y_train)\n",
    "\n",
    "print(\"train set score is {:.3f}\".format(forest.score(X_train, y_train)))\n",
    "print(\"test set score is {:.3f}\".format(forest.score(X_test, y_test)))"
   ]
  },
  {
   "cell_type": "code",
   "execution_count": 61,
   "id": "1f2a7533",
   "metadata": {},
   "outputs": [
    {
     "name": "stdout",
     "output_type": "stream",
     "text": [
      "최적 하이퍼 파라미터:  {'max_depth': 20, 'n_estimators': 200}\n",
      "최고 예측 정확도: 0.8231\n"
     ]
    }
   ],
   "source": [
    "# 랜덤포레스트 그리드 서치 통한 최적 매개변수 탐색.\n",
    "\n",
    "params = { 'n_estimators' : [10, 25, 50, 75, 100, 200],\n",
    "           'max_depth' : [4, 6, 8, 10, 12, 20]\n",
    "            }\n",
    "\n",
    "model = RandomForestClassifier(random_state = 42, n_jobs = -1)\n",
    "grid_cv = GridSearchCV(model, param_grid = params, cv = 5, n_jobs = -1)\n",
    "grid_cv.fit(X_train, y_train)\n",
    "\n",
    "print('최적 하이퍼 파라미터: ', grid_cv.best_params_)\n",
    "print('최고 예측 정확도: {:.4f}'.format(grid_cv.best_score_))"
   ]
  },
  {
   "cell_type": "code",
   "execution_count": 63,
   "id": "36bbd7a8",
   "metadata": {},
   "outputs": [
    {
     "name": "stdout",
     "output_type": "stream",
     "text": [
      "교차 검증 점수 :  [0.76724496 0.77131236 0.76761849 0.77138588 0.76980866]\n"
     ]
    }
   ],
   "source": [
    "# 최적 매개변수 활용한 랜덤포레스트 모델의 교차검증\n",
    "rf = RandomForestClassifier(max_depth = 12, n_estimators = 100, random_state = 42)\n",
    "print('교차 검증 점수 : ',format(cross_val_score(estimator=rf ,X=X_train, y=y_train, scoring='accuracy', cv=5, n_jobs=-1)))"
   ]
  },
  {
   "cell_type": "code",
   "execution_count": 64,
   "id": "3e8ed101",
   "metadata": {},
   "outputs": [
    {
     "name": "stdout",
     "output_type": "stream",
     "text": [
      "교차 검증 점수 평균:  0.7694740698475788\n"
     ]
    }
   ],
   "source": [
    "cross_rf = cross_val_score(estimator = rf, X=X_train, y = y_train, cv = 5, n_jobs = -1)\n",
    "print('교차 검증 점수 평균: ', cross_rf.mean())"
   ]
  },
  {
   "cell_type": "code",
   "execution_count": 20,
   "id": "e79212b8",
   "metadata": {},
   "outputs": [
    {
     "name": "stdout",
     "output_type": "stream",
     "text": [
      "train set score is 0.742\n",
      "test set score is 0.753\n"
     ]
    }
   ],
   "source": [
    "# 로지스틱 회귀모델 적용\n",
    "# 로지스틱 회귀모델은 수학적 모델이므로 스케일링 된 것 활용.\n",
    "# 임의의 매개변수 값 적용.\n",
    "\n",
    "lr = LogisticRegression(solver='liblinear', multi_class='auto', C=10, random_state=42).fit(X_train_s, y_train)\n",
    "\n",
    "print(\"train set score is {:.3f}\".format(lr.score(X_train_s, y_train)))\n",
    "print(\"test set score is {:.3f}\".format(lr.score(X_test_s, y_test)))"
   ]
  },
  {
   "cell_type": "code",
   "execution_count": 21,
   "id": "f7803701",
   "metadata": {
    "scrolled": true
   },
   "outputs": [
    {
     "name": "stdout",
     "output_type": "stream",
     "text": [
      "최적 하이퍼 파라미터:  {'C': 0.1, 'max_iter': 100, 'solver': 'lbfgs'}\n",
      "최고 예측 정확도: 0.7418\n"
     ]
    }
   ],
   "source": [
    "# 로지스틱 회귀 그리드 서치 통한 최적 매개변수 탐색.\n",
    "\n",
    "params = { 'C' : [0.001 , 0.1, 1, 10, 50, 75, 100, 200],\n",
    "           'max_iter' : [100, 200, 300, 400, 500],\n",
    "         'solver' : ['newton-cg', 'lbfgs', 'liblinear']}\n",
    "\n",
    "grid_cv = GridSearchCV(LogisticRegression(random_state = 42), param_grid = params, cv=5, n_jobs = -1) \n",
    "grid_cv.fit(X_train_s, y_train)\n",
    "\n",
    "print('최적 하이퍼 파라미터: ', grid_cv.best_params_)\n",
    "print('최고 예측 정확도: {:.4f}'.format(grid_cv.best_score_))"
   ]
  },
  {
   "cell_type": "code",
   "execution_count": 22,
   "id": "75272807",
   "metadata": {},
   "outputs": [
    {
     "name": "stdout",
     "output_type": "stream",
     "text": [
      "교차 검증 점수 :  [0.74362912 0.7454138  0.74076534 0.73909434 0.73984145]\n",
      "교차 검증 점수 평균:  0.7417488082990825\n"
     ]
    }
   ],
   "source": [
    "# 최적 매개변수 활용한 로지스틱 회귀 교차검증\n",
    "\n",
    "lr = LogisticRegression(C = 0.1, max_iter = 100, solver = 'lbfgs', random_state = 42)\n",
    "print('교차 검증 점수 : ',format(cross_val_score(estimator=lr ,X=X_train, y=y_train, scoring='accuracy', cv=5, n_jobs=-1)))\n",
    "cross_lr = cross_val_score(estimator = lr, X=X_train, y = y_train, cv = 5, n_jobs = -1)\n",
    "print('교차 검증 점수 평균: ', cross_lr.mean())"
   ]
  },
  {
   "cell_type": "code",
   "execution_count": 23,
   "id": "05acd206",
   "metadata": {},
   "outputs": [
    {
     "name": "stdout",
     "output_type": "stream",
     "text": [
      "train set score is 0.862\n",
      "test set score is 0.757\n"
     ]
    }
   ],
   "source": [
    "# knn 모델 예측.\n",
    "# 시간이 너무 오래 걸리는데... 매개변수 그리드 서치를 할 수 있을까...? ㅎㅎ\n",
    "# 데이터 간 거리를 사용하여 예측하므로 스케일링 후 활용.\n",
    "\n",
    "kn = KNeighborsClassifier().fit(X_train_s, y_train)\n",
    "\n",
    "print(\"train set score is {:.3f}\".format(kn.score(X_train_s, y_train)))\n",
    "print(\"test set score is {:.3f}\".format(kn.score(X_test_s, y_test)))"
   ]
  },
  {
   "cell_type": "code",
   "execution_count": 24,
   "id": "bc29e8d9",
   "metadata": {},
   "outputs": [
    {
     "name": "stdout",
     "output_type": "stream",
     "text": [
      "교차 검증 점수 :  [0.75313356 0.75383913 0.75599734 0.78421118 0.78736562]\n",
      "교차 검증 점수 평균:  0.7669093681149377\n"
     ]
    }
   ],
   "source": [
    "# knn 교차검증\n",
    "\n",
    "print('교차 검증 점수 : ',format(cross_val_score(estimator=kn ,X=X_train, y=y_train, cv=5, n_jobs=-1)))\n",
    "cross_kn = cross_val_score(estimator = kn, X=X_train, y = y_train, cv = 5, n_jobs = -1)\n",
    "print('교차 검증 점수 평균: ', cross_kn.mean())"
   ]
  },
  {
   "cell_type": "code",
   "execution_count": 25,
   "id": "a7a969eb",
   "metadata": {},
   "outputs": [
    {
     "name": "stdout",
     "output_type": "stream",
     "text": [
      "train set score is 0.990\n",
      "test set score is 0.785\n"
     ]
    }
   ],
   "source": [
    "# 결정트리\n",
    "# 결정트리이므로 전처리 없이 활용함.\n",
    "\n",
    "dt = DecisionTreeClassifier(random_state = 42).fit(X_train, y_train)\n",
    "\n",
    "print(\"train set score is {:.3f}\".format(dt.score(X_train, y_train)))\n",
    "print(\"test set score is {:.3f}\".format(dt.score(X_test, y_test)))"
   ]
  },
  {
   "cell_type": "code",
   "execution_count": 26,
   "id": "be329ece",
   "metadata": {
    "scrolled": true
   },
   "outputs": [
    {
     "name": "stdout",
     "output_type": "stream",
     "text": [
      "최적 하이퍼 파라미터:  {'criterion': 'gini', 'max_depth': 20, 'splitter': 'best'}\n",
      "최고 예측 정확도: 0.8040\n"
     ]
    }
   ],
   "source": [
    "# 결정트리 그리드서치\n",
    "\n",
    "params = { 'criterion' : ['gini' , 'entropy'],\n",
    "           'max_depth' : [4, 6, 8, 10, 12, 20],\n",
    "         'splitter' : ['best', 'random']}\n",
    "\n",
    "grid_cv = GridSearchCV(DecisionTreeClassifier(random_state = 42), param_grid = params, cv=5, n_jobs = -1)\n",
    "grid_cv.fit(X_train_s, y_train)\n",
    "\n",
    "print('최적 하이퍼 파라미터: ', grid_cv.best_params_)\n",
    "print('최고 예측 정확도: {:.4f}'.format(grid_cv.best_score_))"
   ]
  },
  {
   "cell_type": "code",
   "execution_count": 27,
   "id": "8a2e6040",
   "metadata": {
    "scrolled": true
   },
   "outputs": [
    {
     "name": "stdout",
     "output_type": "stream",
     "text": [
      "train set score is 0.851\n",
      "test set score is 0.771\n",
      "교차 검증 점수 :  [0.79447165 0.80011621 0.78845356 0.81928361 0.81828747]\n",
      "교차 검증 점수 평균:  0.8041224999674503\n"
     ]
    }
   ],
   "source": [
    "dt = DecisionTreeClassifier(criterion = 'gini', max_depth = 20, splitter = 'best', random_state = 42).fit(X_train, y_train)\n",
    "print(\"train set score is {:.3f}\".format(dt.score(X_train, y_train)))\n",
    "print(\"test set score is {:.3f}\".format(dt.score(X_test, y_test)))\n",
    "\n",
    "print('교차 검증 점수 : ',format(cross_val_score(estimator=dt ,X=X_train, y=y_train, cv=5, n_jobs=-1)))\n",
    "cross_dt = cross_val_score(estimator = dt, X=X_train, y = y_train, cv = 5, n_jobs = -1)\n",
    "print('교차 검증 점수 평균: ', cross_dt.mean())"
   ]
  },
  {
   "cell_type": "code",
   "execution_count": null,
   "id": "4da985e2",
   "metadata": {},
   "outputs": [],
   "source": []
  },
  {
   "cell_type": "code",
   "execution_count": 55,
   "id": "9af1317f",
   "metadata": {},
   "outputs": [],
   "source": [
    "# 랜덤포레스트 max_depth값 조정하면서 훈련/검증 셋 성능비교\n",
    "\n",
    "score_train_rf = []\n",
    "score_test_rf = []\n",
    "\n",
    "for i in range(1, 20):\n",
    "    forest = RandomForestClassifier(n_estimators = 100, max_depth = i, random_state = 42)\n",
    "    forest.fit(X_train, y_train)\n",
    "    \n",
    "    score_train_rf.append(forest.score(X_train, y_train))\n",
    "    score_test_rf.append(forest.score(X_test, y_test))"
   ]
  },
  {
   "cell_type": "code",
   "execution_count": 56,
   "id": "8db5cca9",
   "metadata": {},
   "outputs": [
    {
     "name": "stdout",
     "output_type": "stream",
     "text": [
      "[0.6698127303516287, 0.6856592622107116, 0.68734435700767, 0.7368014742504233, 0.7444715609124415, 0.754084072118737, 0.7565494571172428, 0.7581183384799283, 0.7612727031244811, 0.7642859514559883, 0.7674735199389049, 0.7765381678121991, 0.7808131620015274, 0.789935916591958, 0.7984527011322509, 0.8081731248132284, 0.8193379154630275, 0.8297224159112794, 0.8410864295912608]\n",
      "[0.7431108133009465, 0.7601139123879722, 0.762040371890443, 0.765600134014574, 0.7637574336209063, 0.7607421057039954, 0.7550046067509841, 0.7557165591758104, 0.7565122707094396, 0.7578105368958874, 0.7587318870927213, 0.7645531451545355, 0.7640924700561186, 0.770081246335539, 0.7727615378172377, 0.7758187452885501, 0.7800485802831058, 0.7825613535471982, 0.7856185610185108]\n"
     ]
    }
   ],
   "source": [
    "print(score_train_rf)\n",
    "print(score_test_rf)"
   ]
  },
  {
   "cell_type": "code",
   "execution_count": 57,
   "id": "10f1d9d4",
   "metadata": {
    "scrolled": true
   },
   "outputs": [
    {
     "data": {
      "image/png": "[encoded data removed]",
      "text/plain": [
       "<Figure size 432x288 with 1 Axes>"
      ]
     },
     "metadata": {
      "needs_background": "light"
     },
     "output_type": "display_data"
    }
   ],
   "source": [
    "x_rf = range(1, 20)\n",
    "plt.plot(x_rf, score_train_rf, label = 'train')\n",
    "plt.plot(x_rf, score_test_rf, label = 'test')\n",
    "plt.legend()\n",
    "plt.show()"
   ]
  },
  {
   "cell_type": "code",
   "execution_count": 69,
   "id": "db54eec4",
   "metadata": {},
   "outputs": [],
   "source": [
    "# 결정트리 max_depth값 조정하면서 훈련/검증 셋 성능비교\n",
    "\n",
    "score_train_dt = []\n",
    "score_test_dt = []\n",
    "\n",
    "for i in range(1, 20):\n",
    "    dt = DecisionTreeClassifier(criterion = 'gini', max_depth = i, splitter = 'best', random_state = 42)\n",
    "    dt.fit(X_train, y_train)\n",
    "    \n",
    "    score_train_dt.append(dt.score(X_train, y_train))\n",
    "    score_test_dt.append(dt.score(X_test, y_test))"
   ]
  },
  {
   "cell_type": "code",
   "execution_count": 70,
   "id": "16177440",
   "metadata": {},
   "outputs": [
    {
     "data": {
      "image/png": "[encoded data removed]",
      "text/plain": [
       "<Figure size 432x288 with 1 Axes>"
      ]
     },
     "metadata": {
      "needs_background": "light"
     },
     "output_type": "display_data"
    }
   ],
   "source": [
    "x_dt = range(1, 20)\n",
    "plt.plot(x_dt, score_train_dt, label = 'train')\n",
    "plt.plot(x_dt, score_test_dt, label = 'test')\n",
    "plt.legend()\n",
    "plt.show()"
   ]
  },
  {
   "cell_type": "code",
   "execution_count": 72,
   "id": "05080195",
   "metadata": {},
   "outputs": [
    {
     "name": "stdout",
     "output_type": "stream",
     "text": [
      "train set score is 0.856\n",
      "test set score is 0.788\n"
     ]
    }
   ],
   "source": [
    "rf = RandomForestClassifier(max_depth = 20, n_estimators = 100, random_state = 42)\n",
    "rf.fit(X_train, y_train)\n",
    "\n",
    "print(\"train set score is {:.3f}\".format(rf.score(X_train, y_train)))\n",
    "print(\"test set score is {:.3f}\".format(rf.score(X_test, y_test)))"
   ]
  },
  {
   "cell_type": "code",
   "execution_count": null,
   "id": "6a1b1424",
   "metadata": {},
   "outputs": [],
   "source": [
    "# 자... 이렇게 돌려보고 드는 생각은\n",
    "# 1. rf가 제일 나은 것 같다. 적당히 성능이 나온다.\n",
    "# 2. 적당히 성능 나오면서 오버피팅 심하지 않은 매개변수 선택 (max_depth = 12) 하자."
   ]
  }
 ],
 "metadata": {
  "kernelspec": {
   "display_name": "Python 3",
   "language": "python",
   "name": "python3"
  },
  "language_info": {
   "codemirror_mode": {
    "name": "ipython",
    "version": 3
   },
   "file_extension": ".py",
   "mimetype": "text/x-python",
   "name": "python",
   "nbconvert_exporter": "python",
   "pygments_lexer": "ipython3",
   "version": "3.8.8"
  }
 },
 "nbformat": 4,
 "nbformat_minor": 5
}
