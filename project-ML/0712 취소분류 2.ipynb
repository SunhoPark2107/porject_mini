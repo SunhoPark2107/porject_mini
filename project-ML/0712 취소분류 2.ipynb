{
 "cells": [
  {
   "cell_type": "code",
   "execution_count": 48,
   "id": "e2be89eb",
   "metadata": {
    "collapsed": true
   },
   "outputs": [
    {
     "name": "stdout",
     "output_type": "stream",
     "text": [
      "Collecting plotly\n",
      "  Downloading plotly-5.1.0-py2.py3-none-any.whl (20.6 MB)\n",
      "Requirement already satisfied: six in c:\\programdata\\anaconda3\\lib\\site-packages (from plotly) (1.15.0)\n",
      "Collecting tenacity>=6.2.0\n",
      "  Downloading tenacity-8.0.0-py3-none-any.whl (22 kB)\n",
      "Installing collected packages: tenacity, plotly\n",
      "Successfully installed plotly-5.1.0 tenacity-8.0.0\n",
      "Collecting cufflinks\n",
      "  Downloading cufflinks-0.17.3.tar.gz (81 kB)\n",
      "Requirement already satisfied: numpy>=1.9.2 in c:\\programdata\\anaconda3\\lib\\site-packages (from cufflinks) (1.19.5)\n",
      "Requirement already satisfied: pandas>=0.19.2 in c:\\programdata\\anaconda3\\lib\\site-packages (from cufflinks) (1.2.4)\n",
      "Requirement already satisfied: plotly>=4.1.1 in c:\\programdata\\anaconda3\\lib\\site-packages (from cufflinks) (5.1.0)\n",
      "Requirement already satisfied: six>=1.9.0 in c:\\programdata\\anaconda3\\lib\\site-packages (from cufflinks) (1.15.0)\n",
      "Collecting colorlover>=0.2.1\n",
      "  Downloading colorlover-0.3.0-py3-none-any.whl (8.9 kB)\n",
      "Requirement already satisfied: setuptools>=34.4.1 in c:\\programdata\\anaconda3\\lib\\site-packages (from cufflinks) (52.0.0.post20210125)\n",
      "Requirement already satisfied: ipython>=5.3.0 in c:\\programdata\\anaconda3\\lib\\site-packages (from cufflinks) (7.22.0)\n",
      "Requirement already satisfied: ipywidgets>=7.0.0 in c:\\programdata\\anaconda3\\lib\\site-packages (from cufflinks) (7.6.3)\n",
      "Requirement already satisfied: decorator in c:\\programdata\\anaconda3\\lib\\site-packages (from ipython>=5.3.0->cufflinks) (5.0.6)\n",
      "Requirement already satisfied: jedi>=0.16 in c:\\programdata\\anaconda3\\lib\\site-packages (from ipython>=5.3.0->cufflinks) (0.17.2)\n",
      "Requirement already satisfied: pickleshare in c:\\programdata\\anaconda3\\lib\\site-packages (from ipython>=5.3.0->cufflinks) (0.7.5)\n",
      "Requirement already satisfied: colorama in c:\\programdata\\anaconda3\\lib\\site-packages (from ipython>=5.3.0->cufflinks) (0.4.4)\n",
      "Requirement already satisfied: prompt-toolkit!=3.0.0,!=3.0.1,<3.1.0,>=2.0.0 in c:\\programdata\\anaconda3\\lib\\site-packages (from ipython>=5.3.0->cufflinks) (3.0.17)\n",
      "Requirement already satisfied: pygments in c:\\programdata\\anaconda3\\lib\\site-packages (from ipython>=5.3.0->cufflinks) (2.8.1)\n",
      "Requirement already satisfied: traitlets>=4.2 in c:\\programdata\\anaconda3\\lib\\site-packages (from ipython>=5.3.0->cufflinks) (5.0.5)\n",
      "Requirement already satisfied: backcall in c:\\programdata\\anaconda3\\lib\\site-packages (from ipython>=5.3.0->cufflinks) (0.2.0)\n",
      "Requirement already satisfied: jupyterlab-widgets>=1.0.0 in c:\\programdata\\anaconda3\\lib\\site-packages (from ipywidgets>=7.0.0->cufflinks) (1.0.0)\n",
      "Requirement already satisfied: nbformat>=4.2.0 in c:\\programdata\\anaconda3\\lib\\site-packages (from ipywidgets>=7.0.0->cufflinks) (5.1.3)\n",
      "Requirement already satisfied: widgetsnbextension~=3.5.0 in c:\\programdata\\anaconda3\\lib\\site-packages (from ipywidgets>=7.0.0->cufflinks) (3.5.1)\n",
      "Requirement already satisfied: ipykernel>=4.5.1 in c:\\programdata\\anaconda3\\lib\\site-packages (from ipywidgets>=7.0.0->cufflinks) (5.3.4)\n",
      "Requirement already satisfied: tornado>=4.2 in c:\\programdata\\anaconda3\\lib\\site-packages (from ipykernel>=4.5.1->ipywidgets>=7.0.0->cufflinks) (6.1)\n",
      "Requirement already satisfied: jupyter-client in c:\\programdata\\anaconda3\\lib\\site-packages (from ipykernel>=4.5.1->ipywidgets>=7.0.0->cufflinks) (6.1.12)\n",
      "Requirement already satisfied: parso<0.8.0,>=0.7.0 in c:\\programdata\\anaconda3\\lib\\site-packages (from jedi>=0.16->ipython>=5.3.0->cufflinks) (0.7.0)\n",
      "Requirement already satisfied: jsonschema!=2.5.0,>=2.4 in c:\\programdata\\anaconda3\\lib\\site-packages (from nbformat>=4.2.0->ipywidgets>=7.0.0->cufflinks) (3.2.0)\n",
      "Requirement already satisfied: jupyter-core in c:\\programdata\\anaconda3\\lib\\site-packages (from nbformat>=4.2.0->ipywidgets>=7.0.0->cufflinks) (4.7.1)\n",
      "Requirement already satisfied: ipython-genutils in c:\\programdata\\anaconda3\\lib\\site-packages (from nbformat>=4.2.0->ipywidgets>=7.0.0->cufflinks) (0.2.0)\n",
      "Requirement already satisfied: attrs>=17.4.0 in c:\\programdata\\anaconda3\\lib\\site-packages (from jsonschema!=2.5.0,>=2.4->nbformat>=4.2.0->ipywidgets>=7.0.0->cufflinks) (20.3.0)\n",
      "Requirement already satisfied: pyrsistent>=0.14.0 in c:\\programdata\\anaconda3\\lib\\site-packages (from jsonschema!=2.5.0,>=2.4->nbformat>=4.2.0->ipywidgets>=7.0.0->cufflinks) (0.17.3)\n",
      "Requirement already satisfied: python-dateutil>=2.7.3 in c:\\programdata\\anaconda3\\lib\\site-packages (from pandas>=0.19.2->cufflinks) (2.8.1)\n",
      "Requirement already satisfied: pytz>=2017.3 in c:\\programdata\\anaconda3\\lib\\site-packages (from pandas>=0.19.2->cufflinks) (2021.1)\n",
      "Requirement already satisfied: tenacity>=6.2.0 in c:\\programdata\\anaconda3\\lib\\site-packages (from plotly>=4.1.1->cufflinks) (8.0.0)\n",
      "Requirement already satisfied: wcwidth in c:\\programdata\\anaconda3\\lib\\site-packages (from prompt-toolkit!=3.0.0,!=3.0.1,<3.1.0,>=2.0.0->ipython>=5.3.0->cufflinks) (0.2.5)\n",
      "Requirement already satisfied: notebook>=4.4.1 in c:\\programdata\\anaconda3\\lib\\site-packages (from widgetsnbextension~=3.5.0->ipywidgets>=7.0.0->cufflinks) (6.3.0)\n",
      "Requirement already satisfied: pyzmq>=17 in c:\\programdata\\anaconda3\\lib\\site-packages (from notebook>=4.4.1->widgetsnbextension~=3.5.0->ipywidgets>=7.0.0->cufflinks) (20.0.0)\n",
      "Requirement already satisfied: nbconvert in c:\\programdata\\anaconda3\\lib\\site-packages (from notebook>=4.4.1->widgetsnbextension~=3.5.0->ipywidgets>=7.0.0->cufflinks) (6.0.7)\n",
      "Requirement already satisfied: jinja2 in c:\\programdata\\anaconda3\\lib\\site-packages (from notebook>=4.4.1->widgetsnbextension~=3.5.0->ipywidgets>=7.0.0->cufflinks) (2.11.3)\n",
      "Requirement already satisfied: terminado>=0.8.3 in c:\\programdata\\anaconda3\\lib\\site-packages (from notebook>=4.4.1->widgetsnbextension~=3.5.0->ipywidgets>=7.0.0->cufflinks) (0.9.4)\n",
      "Requirement already satisfied: prometheus-client in c:\\programdata\\anaconda3\\lib\\site-packages (from notebook>=4.4.1->widgetsnbextension~=3.5.0->ipywidgets>=7.0.0->cufflinks) (0.10.1)\n",
      "Requirement already satisfied: Send2Trash>=1.5.0 in c:\\programdata\\anaconda3\\lib\\site-packages (from notebook>=4.4.1->widgetsnbextension~=3.5.0->ipywidgets>=7.0.0->cufflinks) (1.5.0)\n",
      "Requirement already satisfied: argon2-cffi in c:\\programdata\\anaconda3\\lib\\site-packages (from notebook>=4.4.1->widgetsnbextension~=3.5.0->ipywidgets>=7.0.0->cufflinks) (20.1.0)\n",
      "Requirement already satisfied: pywin32>=1.0 in c:\\programdata\\anaconda3\\lib\\site-packages (from jupyter-core->nbformat>=4.2.0->ipywidgets>=7.0.0->cufflinks) (227)\n",
      "Requirement already satisfied: pywinpty>=0.5 in c:\\programdata\\anaconda3\\lib\\site-packages (from terminado>=0.8.3->notebook>=4.4.1->widgetsnbextension~=3.5.0->ipywidgets>=7.0.0->cufflinks) (0.5.7)\n",
      "Requirement already satisfied: cffi>=1.0.0 in c:\\programdata\\anaconda3\\lib\\site-packages (from argon2-cffi->notebook>=4.4.1->widgetsnbextension~=3.5.0->ipywidgets>=7.0.0->cufflinks) (1.14.5)\n",
      "Requirement already satisfied: pycparser in c:\\programdata\\anaconda3\\lib\\site-packages (from cffi>=1.0.0->argon2-cffi->notebook>=4.4.1->widgetsnbextension~=3.5.0->ipywidgets>=7.0.0->cufflinks) (2.20)\n",
      "Requirement already satisfied: MarkupSafe>=0.23 in c:\\programdata\\anaconda3\\lib\\site-packages (from jinja2->notebook>=4.4.1->widgetsnbextension~=3.5.0->ipywidgets>=7.0.0->cufflinks) (1.1.1)\n",
      "Requirement already satisfied: entrypoints>=0.2.2 in c:\\programdata\\anaconda3\\lib\\site-packages (from nbconvert->notebook>=4.4.1->widgetsnbextension~=3.5.0->ipywidgets>=7.0.0->cufflinks) (0.3)\n",
      "Requirement already satisfied: bleach in c:\\programdata\\anaconda3\\lib\\site-packages (from nbconvert->notebook>=4.4.1->widgetsnbextension~=3.5.0->ipywidgets>=7.0.0->cufflinks) (3.3.0)\n",
      "Requirement already satisfied: jupyterlab-pygments in c:\\programdata\\anaconda3\\lib\\site-packages (from nbconvert->notebook>=4.4.1->widgetsnbextension~=3.5.0->ipywidgets>=7.0.0->cufflinks) (0.1.2)\n",
      "Requirement already satisfied: pandocfilters>=1.4.1 in c:\\programdata\\anaconda3\\lib\\site-packages (from nbconvert->notebook>=4.4.1->widgetsnbextension~=3.5.0->ipywidgets>=7.0.0->cufflinks) (1.4.3)\n",
      "Requirement already satisfied: defusedxml in c:\\programdata\\anaconda3\\lib\\site-packages (from nbconvert->notebook>=4.4.1->widgetsnbextension~=3.5.0->ipywidgets>=7.0.0->cufflinks) (0.7.1)\n",
      "Requirement already satisfied: mistune<2,>=0.8.1 in c:\\programdata\\anaconda3\\lib\\site-packages (from nbconvert->notebook>=4.4.1->widgetsnbextension~=3.5.0->ipywidgets>=7.0.0->cufflinks) (0.8.4)\n",
      "Requirement already satisfied: nbclient<0.6.0,>=0.5.0 in c:\\programdata\\anaconda3\\lib\\site-packages (from nbconvert->notebook>=4.4.1->widgetsnbextension~=3.5.0->ipywidgets>=7.0.0->cufflinks) (0.5.3)\n",
      "Requirement already satisfied: testpath in c:\\programdata\\anaconda3\\lib\\site-packages (from nbconvert->notebook>=4.4.1->widgetsnbextension~=3.5.0->ipywidgets>=7.0.0->cufflinks) (0.4.4)\n",
      "Requirement already satisfied: async-generator in c:\\programdata\\anaconda3\\lib\\site-packages (from nbclient<0.6.0,>=0.5.0->nbconvert->notebook>=4.4.1->widgetsnbextension~=3.5.0->ipywidgets>=7.0.0->cufflinks) (1.10)\n",
      "Requirement already satisfied: nest-asyncio in c:\\programdata\\anaconda3\\lib\\site-packages (from nbclient<0.6.0,>=0.5.0->nbconvert->notebook>=4.4.1->widgetsnbextension~=3.5.0->ipywidgets>=7.0.0->cufflinks) (1.5.1)\n",
      "Requirement already satisfied: webencodings in c:\\programdata\\anaconda3\\lib\\site-packages (from bleach->nbconvert->notebook>=4.4.1->widgetsnbextension~=3.5.0->ipywidgets>=7.0.0->cufflinks) (0.5.1)\n",
      "Requirement already satisfied: packaging in c:\\programdata\\anaconda3\\lib\\site-packages (from bleach->nbconvert->notebook>=4.4.1->widgetsnbextension~=3.5.0->ipywidgets>=7.0.0->cufflinks) (20.9)\n",
      "Requirement already satisfied: pyparsing>=2.0.2 in c:\\programdata\\anaconda3\\lib\\site-packages (from packaging->bleach->nbconvert->notebook>=4.4.1->widgetsnbextension~=3.5.0->ipywidgets>=7.0.0->cufflinks) (2.4.7)\n",
      "Building wheels for collected packages: cufflinks\n",
      "  Building wheel for cufflinks (setup.py): started\n",
      "  Building wheel for cufflinks (setup.py): finished with status 'done'\n",
      "  Created wheel for cufflinks: filename=cufflinks-0.17.3-py3-none-any.whl size=68724 sha256=152a3492478ca7df40e1bf9b8056e52fa82e1571550f5eb85ee65a9f85e51c55\n",
      "  Stored in directory: c:\\users\\cpb06gamen\\appdata\\local\\pip\\cache\\wheels\\6b\\76\\62\\6da97734911ffcbdd559fd1a3f28526321f0ae699182a23866\n",
      "Successfully built cufflinks\n",
      "Installing collected packages: colorlover, cufflinks\n",
      "Successfully installed colorlover-0.3.0 cufflinks-0.17.3\n"
     ]
    },
    {
     "name": "stdout",
     "output_type": "stream",
     "text": [
      "Collecting sort-dataframeby-monthorweek\n",
      "  Downloading sort_dataframeby_monthorweek-0.4.tar.gz (2.8 kB)\n",
      "Building wheels for collected packages: sort-dataframeby-monthorweek\n",
      "  Building wheel for sort-dataframeby-monthorweek (setup.py): started\n",
      "  Building wheel for sort-dataframeby-monthorweek (setup.py): finished with status 'done'\n",
      "  Created wheel for sort-dataframeby-monthorweek: filename=sort_dataframeby_monthorweek-0.4-py3-none-any.whl size=3439 sha256=679aa76d972457500bf2ccb6d4209abf87dfee8184eadb64c81d49b15b999b93\n",
      "  Stored in directory: c:\\users\\cpb06gamen\\appdata\\local\\pip\\cache\\wheels\\f8\\84\\15\\465a1c7eabab8605e82621b7aa658c99010f3564a43ccd06aa\n",
      "Successfully built sort-dataframeby-monthorweek\n",
      "Installing collected packages: sort-dataframeby-monthorweek\n",
      "Successfully installed sort-dataframeby-monthorweek-0.4\n",
      "Collecting sorted-months-weekdays\n",
      "  Downloading sorted_months_weekdays-0.2.tar.gz (2.7 kB)\n",
      "Building wheels for collected packages: sorted-months-weekdays\n",
      "  Building wheel for sorted-months-weekdays (setup.py): started\n",
      "  Building wheel for sorted-months-weekdays (setup.py): finished with status 'done'\n",
      "  Created wheel for sorted-months-weekdays: filename=sorted_months_weekdays-0.2-py3-none-any.whl size=3240 sha256=72a7defbe261af51e0d05edcc050aaaf1e8bf24afc45c910ef96e2a3bb9899f8\n",
      "  Stored in directory: c:\\users\\cpb06gamen\\appdata\\local\\pip\\cache\\wheels\\9a\\0d\\2e\\309df76f445367ea1777b73df0feb347b9c8d204ead35fdb10\n",
      "Successfully built sorted-months-weekdays\n",
      "Installing collected packages: sorted-months-weekdays\n",
      "Successfully installed sorted-months-weekdays-0.2\n"
     ]
    }
   ],
   "source": [
    "# 세련된 데이터 시각화 패키지, Plotly.\n",
    "# !pip install plotly\n",
    "# !pip install cufflinks\n",
    "# !pip install sort-dataframeby-monthorweek\n",
    "# !pip install sorted-months-weekdays"
   ]
  },
  {
   "cell_type": "code",
   "execution_count": 56,
   "id": "ce5469be",
   "metadata": {},
   "outputs": [],
   "source": [
    "import pandas as pd\n",
    "from sklearn.linear_model import LogisticRegression\n",
    "import matplotlib.pyplot as plt\n",
    "import numpy as np\n",
    "from sklearn.model_selection import GridSearchCV, train_test_split\n",
    "from sklearn.preprocessing import StandardScaler\n",
    "from sklearn.model_selection import cross_val_score\n",
    "from sklearn.model_selection import cross_validate\n",
    "from sklearn.ensemble import RandomForestClassifier\n",
    "from sklearn.neighbors import KNeighborsClassifier\n",
    "from sklearn.manifold import TSNE\n",
    "from sklearn.linear_model import SGDClassifier\n",
    "from sklearn.pipeline import make_pipeline\n",
    "# !pip install imblearn\n",
    "from imblearn.over_sampling import RandomOverSampler\n",
    "import seaborn as sns\n",
    "\n",
    "import graphviz\n",
    "from sklearn import tree\n",
    "from sklearn.tree import DecisionTreeClassifier\n",
    "from sklearn.model_selection import cross_val_score"
   ]
  },
  {
   "cell_type": "code",
   "execution_count": 203,
   "id": "69ec8d63",
   "metadata": {},
   "outputs": [],
   "source": [
    "df = pd.read_csv('C:/workspace/Python/머신러닝 플젝/hotel_bookings_cancel.csv', header = 0)"
   ]
  },
  {
   "cell_type": "code",
   "execution_count": 180,
   "id": "2c5129d3",
   "metadata": {
    "scrolled": false
   },
   "outputs": [
    {
     "name": "stdout",
     "output_type": "stream",
     "text": [
      "<class 'pandas.core.frame.DataFrame'>\n",
      "RangeIndex: 119390 entries, 0 to 119389\n",
      "Data columns (total 24 columns):\n",
      " #   Column                          Non-Null Count   Dtype  \n",
      "---  ------                          --------------   -----  \n",
      " 0   is_canceled                     119390 non-null  int64  \n",
      " 1   lead_time                       119390 non-null  int64  \n",
      " 2   arrival_date_month              119390 non-null  object \n",
      " 3   arrival_date_day_of_month       119390 non-null  int64  \n",
      " 4   stays_in_weekend_nights         119390 non-null  int64  \n",
      " 5   stays_in_week_nights            119390 non-null  int64  \n",
      " 6   adults                          119390 non-null  int64  \n",
      " 7   children                        119386 non-null  float64\n",
      " 8   babies                          119390 non-null  int64  \n",
      " 9   meal                            119390 non-null  object \n",
      " 10  market_segment                  119390 non-null  object \n",
      " 11  is_repeated_guest               119390 non-null  int64  \n",
      " 12  previous_cancellations          119390 non-null  int64  \n",
      " 13  previous_bookings_not_canceled  119390 non-null  int64  \n",
      " 14  reserved_room_type              119390 non-null  object \n",
      " 15  assigned_room_type              119390 non-null  object \n",
      " 16  booking_changes                 119390 non-null  int64  \n",
      " 17  deposit_type                    119390 non-null  object \n",
      " 18  agent                           103050 non-null  float64\n",
      " 19  customer_type                   119390 non-null  object \n",
      " 20  adr                             119390 non-null  float64\n",
      " 21  required_car_parking_spaces     119390 non-null  int64  \n",
      " 22  total_of_special_requests       119390 non-null  int64  \n",
      " 23  reservation_status              119390 non-null  object \n",
      "dtypes: float64(3), int64(13), object(8)\n",
      "memory usage: 21.9+ MB\n"
     ]
    }
   ],
   "source": [
    "df.info()"
   ]
  },
  {
   "cell_type": "code",
   "execution_count": 181,
   "id": "d6efef2a",
   "metadata": {},
   "outputs": [],
   "source": [
    "# 특성 대치 - children, babies\n",
    "df['children'] = df['children'].fillna(0)\n",
    "df['babies'] = df['babies'].fillna(0)"
   ]
  },
  {
   "cell_type": "code",
   "execution_count": 182,
   "id": "428af763",
   "metadata": {},
   "outputs": [],
   "source": [
    "# agent를 agent 유무로 대치\n",
    "df['agent'] = df['agent'].fillna(0)\n",
    "df.loc[df['agent'] != 0] = 1"
   ]
  },
  {
   "cell_type": "code",
   "execution_count": 183,
   "id": "566e7f66",
   "metadata": {},
   "outputs": [],
   "source": [
    "df[\"total_guest\"] = df[\"adults\"] + df[\"children\"] + df[\"babies\"]\n",
    "df[\"kids\"] = df[\"children\"] + df[\"babies\"]\n",
    "df_ml = df.drop([\"adults\", \"children\", \"babies\", \"assigned_room_type\", \"reserved_room_type\",\"reservation_status\", \"arrival_date_day_of_month\", \"required_car_parking_spaces\", \"total_of_special_requests\"], axis = 1)"
   ]
  },
  {
   "cell_type": "code",
   "execution_count": 185,
   "id": "5b3ec406",
   "metadata": {},
   "outputs": [
    {
     "data": {
      "text/plain": [
       "array([0., 2., 1., 3.])"
      ]
     },
     "execution_count": 185,
     "metadata": {},
     "output_type": "execute_result"
    }
   ],
   "source": [
    "df_ml['kids'].unique()"
   ]
  },
  {
   "cell_type": "code",
   "execution_count": 186,
   "id": "26e8c42e",
   "metadata": {},
   "outputs": [],
   "source": [
    "df_ml.loc[df['kids'] != 0] = 1"
   ]
  },
  {
   "cell_type": "code",
   "execution_count": 187,
   "id": "a5002a4b",
   "metadata": {
    "scrolled": true
   },
   "outputs": [
    {
     "data": {
      "text/plain": [
       "array([0., 1.])"
      ]
     },
     "execution_count": 187,
     "metadata": {},
     "output_type": "execute_result"
    }
   ],
   "source": [
    "df_ml['kids'].unique()"
   ]
  },
  {
   "cell_type": "code",
   "execution_count": 188,
   "id": "c24633df",
   "metadata": {},
   "outputs": [
    {
     "data": {
      "text/plain": [
       "1.0    103851\n",
       "0.0     15539\n",
       "Name: kids, dtype: int64"
      ]
     },
     "execution_count": 188,
     "metadata": {},
     "output_type": "execute_result"
    }
   ],
   "source": [
    "df_ml['kids'].value_counts()"
   ]
  },
  {
   "cell_type": "code",
   "execution_count": 189,
   "id": "ee12d3e2",
   "metadata": {},
   "outputs": [
    {
     "data": {
      "text/html": [
       "<div>\n",
       "<style scoped>\n",
       "    .dataframe tbody tr th:only-of-type {\n",
       "        vertical-align: middle;\n",
       "    }\n",
       "\n",
       "    .dataframe tbody tr th {\n",
       "        vertical-align: top;\n",
       "    }\n",
       "\n",
       "    .dataframe thead th {\n",
       "        text-align: right;\n",
       "    }\n",
       "</style>\n",
       "<table border=\"1\" class=\"dataframe\">\n",
       "  <thead>\n",
       "    <tr style=\"text-align: right;\">\n",
       "      <th></th>\n",
       "      <th>is_canceled</th>\n",
       "      <th>lead_time</th>\n",
       "      <th>arrival_date_month</th>\n",
       "      <th>stays_in_weekend_nights</th>\n",
       "      <th>stays_in_week_nights</th>\n",
       "      <th>meal</th>\n",
       "      <th>market_segment</th>\n",
       "      <th>is_repeated_guest</th>\n",
       "      <th>previous_cancellations</th>\n",
       "      <th>previous_bookings_not_canceled</th>\n",
       "      <th>booking_changes</th>\n",
       "      <th>deposit_type</th>\n",
       "      <th>agent</th>\n",
       "      <th>customer_type</th>\n",
       "      <th>adr</th>\n",
       "      <th>total_guest</th>\n",
       "      <th>kids</th>\n",
       "    </tr>\n",
       "  </thead>\n",
       "  <tbody>\n",
       "    <tr>\n",
       "      <th>0</th>\n",
       "      <td>0</td>\n",
       "      <td>342</td>\n",
       "      <td>July</td>\n",
       "      <td>0</td>\n",
       "      <td>0</td>\n",
       "      <td>BB</td>\n",
       "      <td>Direct</td>\n",
       "      <td>0</td>\n",
       "      <td>0</td>\n",
       "      <td>0</td>\n",
       "      <td>3</td>\n",
       "      <td>No Deposit</td>\n",
       "      <td>0.0</td>\n",
       "      <td>Transient</td>\n",
       "      <td>0.0</td>\n",
       "      <td>2.0</td>\n",
       "      <td>0.0</td>\n",
       "    </tr>\n",
       "    <tr>\n",
       "      <th>1</th>\n",
       "      <td>0</td>\n",
       "      <td>737</td>\n",
       "      <td>July</td>\n",
       "      <td>0</td>\n",
       "      <td>0</td>\n",
       "      <td>BB</td>\n",
       "      <td>Direct</td>\n",
       "      <td>0</td>\n",
       "      <td>0</td>\n",
       "      <td>0</td>\n",
       "      <td>4</td>\n",
       "      <td>No Deposit</td>\n",
       "      <td>0.0</td>\n",
       "      <td>Transient</td>\n",
       "      <td>0.0</td>\n",
       "      <td>2.0</td>\n",
       "      <td>0.0</td>\n",
       "    </tr>\n",
       "    <tr>\n",
       "      <th>2</th>\n",
       "      <td>0</td>\n",
       "      <td>7</td>\n",
       "      <td>July</td>\n",
       "      <td>0</td>\n",
       "      <td>1</td>\n",
       "      <td>BB</td>\n",
       "      <td>Direct</td>\n",
       "      <td>0</td>\n",
       "      <td>0</td>\n",
       "      <td>0</td>\n",
       "      <td>0</td>\n",
       "      <td>No Deposit</td>\n",
       "      <td>0.0</td>\n",
       "      <td>Transient</td>\n",
       "      <td>75.0</td>\n",
       "      <td>1.0</td>\n",
       "      <td>0.0</td>\n",
       "    </tr>\n",
       "    <tr>\n",
       "      <th>3</th>\n",
       "      <td>1</td>\n",
       "      <td>1</td>\n",
       "      <td>1</td>\n",
       "      <td>1</td>\n",
       "      <td>1</td>\n",
       "      <td>1</td>\n",
       "      <td>1</td>\n",
       "      <td>1</td>\n",
       "      <td>1</td>\n",
       "      <td>1</td>\n",
       "      <td>1</td>\n",
       "      <td>1</td>\n",
       "      <td>1.0</td>\n",
       "      <td>1</td>\n",
       "      <td>1.0</td>\n",
       "      <td>1.0</td>\n",
       "      <td>1.0</td>\n",
       "    </tr>\n",
       "    <tr>\n",
       "      <th>4</th>\n",
       "      <td>1</td>\n",
       "      <td>1</td>\n",
       "      <td>1</td>\n",
       "      <td>1</td>\n",
       "      <td>1</td>\n",
       "      <td>1</td>\n",
       "      <td>1</td>\n",
       "      <td>1</td>\n",
       "      <td>1</td>\n",
       "      <td>1</td>\n",
       "      <td>1</td>\n",
       "      <td>1</td>\n",
       "      <td>1.0</td>\n",
       "      <td>1</td>\n",
       "      <td>1.0</td>\n",
       "      <td>1.0</td>\n",
       "      <td>1.0</td>\n",
       "    </tr>\n",
       "    <tr>\n",
       "      <th>...</th>\n",
       "      <td>...</td>\n",
       "      <td>...</td>\n",
       "      <td>...</td>\n",
       "      <td>...</td>\n",
       "      <td>...</td>\n",
       "      <td>...</td>\n",
       "      <td>...</td>\n",
       "      <td>...</td>\n",
       "      <td>...</td>\n",
       "      <td>...</td>\n",
       "      <td>...</td>\n",
       "      <td>...</td>\n",
       "      <td>...</td>\n",
       "      <td>...</td>\n",
       "      <td>...</td>\n",
       "      <td>...</td>\n",
       "      <td>...</td>\n",
       "    </tr>\n",
       "    <tr>\n",
       "      <th>119385</th>\n",
       "      <td>1</td>\n",
       "      <td>1</td>\n",
       "      <td>1</td>\n",
       "      <td>1</td>\n",
       "      <td>1</td>\n",
       "      <td>1</td>\n",
       "      <td>1</td>\n",
       "      <td>1</td>\n",
       "      <td>1</td>\n",
       "      <td>1</td>\n",
       "      <td>1</td>\n",
       "      <td>1</td>\n",
       "      <td>1.0</td>\n",
       "      <td>1</td>\n",
       "      <td>1.0</td>\n",
       "      <td>1.0</td>\n",
       "      <td>1.0</td>\n",
       "    </tr>\n",
       "    <tr>\n",
       "      <th>119386</th>\n",
       "      <td>1</td>\n",
       "      <td>1</td>\n",
       "      <td>1</td>\n",
       "      <td>1</td>\n",
       "      <td>1</td>\n",
       "      <td>1</td>\n",
       "      <td>1</td>\n",
       "      <td>1</td>\n",
       "      <td>1</td>\n",
       "      <td>1</td>\n",
       "      <td>1</td>\n",
       "      <td>1</td>\n",
       "      <td>1.0</td>\n",
       "      <td>1</td>\n",
       "      <td>1.0</td>\n",
       "      <td>1.0</td>\n",
       "      <td>1.0</td>\n",
       "    </tr>\n",
       "    <tr>\n",
       "      <th>119387</th>\n",
       "      <td>1</td>\n",
       "      <td>1</td>\n",
       "      <td>1</td>\n",
       "      <td>1</td>\n",
       "      <td>1</td>\n",
       "      <td>1</td>\n",
       "      <td>1</td>\n",
       "      <td>1</td>\n",
       "      <td>1</td>\n",
       "      <td>1</td>\n",
       "      <td>1</td>\n",
       "      <td>1</td>\n",
       "      <td>1.0</td>\n",
       "      <td>1</td>\n",
       "      <td>1.0</td>\n",
       "      <td>1.0</td>\n",
       "      <td>1.0</td>\n",
       "    </tr>\n",
       "    <tr>\n",
       "      <th>119388</th>\n",
       "      <td>1</td>\n",
       "      <td>1</td>\n",
       "      <td>1</td>\n",
       "      <td>1</td>\n",
       "      <td>1</td>\n",
       "      <td>1</td>\n",
       "      <td>1</td>\n",
       "      <td>1</td>\n",
       "      <td>1</td>\n",
       "      <td>1</td>\n",
       "      <td>1</td>\n",
       "      <td>1</td>\n",
       "      <td>1.0</td>\n",
       "      <td>1</td>\n",
       "      <td>1.0</td>\n",
       "      <td>1.0</td>\n",
       "      <td>1.0</td>\n",
       "    </tr>\n",
       "    <tr>\n",
       "      <th>119389</th>\n",
       "      <td>1</td>\n",
       "      <td>1</td>\n",
       "      <td>1</td>\n",
       "      <td>1</td>\n",
       "      <td>1</td>\n",
       "      <td>1</td>\n",
       "      <td>1</td>\n",
       "      <td>1</td>\n",
       "      <td>1</td>\n",
       "      <td>1</td>\n",
       "      <td>1</td>\n",
       "      <td>1</td>\n",
       "      <td>1.0</td>\n",
       "      <td>1</td>\n",
       "      <td>1.0</td>\n",
       "      <td>1.0</td>\n",
       "      <td>1.0</td>\n",
       "    </tr>\n",
       "  </tbody>\n",
       "</table>\n",
       "<p>119390 rows × 17 columns</p>\n",
       "</div>"
      ],
      "text/plain": [
       "        is_canceled  lead_time arrival_date_month  stays_in_weekend_nights  \\\n",
       "0                 0        342               July                        0   \n",
       "1                 0        737               July                        0   \n",
       "2                 0          7               July                        0   \n",
       "3                 1          1                  1                        1   \n",
       "4                 1          1                  1                        1   \n",
       "...             ...        ...                ...                      ...   \n",
       "119385            1          1                  1                        1   \n",
       "119386            1          1                  1                        1   \n",
       "119387            1          1                  1                        1   \n",
       "119388            1          1                  1                        1   \n",
       "119389            1          1                  1                        1   \n",
       "\n",
       "        stays_in_week_nights meal market_segment  is_repeated_guest  \\\n",
       "0                          0   BB         Direct                  0   \n",
       "1                          0   BB         Direct                  0   \n",
       "2                          1   BB         Direct                  0   \n",
       "3                          1    1              1                  1   \n",
       "4                          1    1              1                  1   \n",
       "...                      ...  ...            ...                ...   \n",
       "119385                     1    1              1                  1   \n",
       "119386                     1    1              1                  1   \n",
       "119387                     1    1              1                  1   \n",
       "119388                     1    1              1                  1   \n",
       "119389                     1    1              1                  1   \n",
       "\n",
       "        previous_cancellations  previous_bookings_not_canceled  \\\n",
       "0                            0                               0   \n",
       "1                            0                               0   \n",
       "2                            0                               0   \n",
       "3                            1                               1   \n",
       "4                            1                               1   \n",
       "...                        ...                             ...   \n",
       "119385                       1                               1   \n",
       "119386                       1                               1   \n",
       "119387                       1                               1   \n",
       "119388                       1                               1   \n",
       "119389                       1                               1   \n",
       "\n",
       "        booking_changes deposit_type  agent customer_type   adr  total_guest  \\\n",
       "0                     3   No Deposit    0.0     Transient   0.0          2.0   \n",
       "1                     4   No Deposit    0.0     Transient   0.0          2.0   \n",
       "2                     0   No Deposit    0.0     Transient  75.0          1.0   \n",
       "3                     1            1    1.0             1   1.0          1.0   \n",
       "4                     1            1    1.0             1   1.0          1.0   \n",
       "...                 ...          ...    ...           ...   ...          ...   \n",
       "119385                1            1    1.0             1   1.0          1.0   \n",
       "119386                1            1    1.0             1   1.0          1.0   \n",
       "119387                1            1    1.0             1   1.0          1.0   \n",
       "119388                1            1    1.0             1   1.0          1.0   \n",
       "119389                1            1    1.0             1   1.0          1.0   \n",
       "\n",
       "        kids  \n",
       "0        0.0  \n",
       "1        0.0  \n",
       "2        0.0  \n",
       "3        1.0  \n",
       "4        1.0  \n",
       "...      ...  \n",
       "119385   1.0  \n",
       "119386   1.0  \n",
       "119387   1.0  \n",
       "119388   1.0  \n",
       "119389   1.0  \n",
       "\n",
       "[119390 rows x 17 columns]"
      ]
     },
     "execution_count": 189,
     "metadata": {},
     "output_type": "execute_result"
    }
   ],
   "source": [
    "df_ml"
   ]
  },
  {
   "cell_type": "code",
   "execution_count": 139,
   "id": "e3f7bb64",
   "metadata": {},
   "outputs": [],
   "source": [
    "X = df.drop(['reservation_status', 'is_canceled'], axis =1)\n",
    "y = df['is_canceled']"
   ]
  },
  {
   "cell_type": "code",
   "execution_count": 140,
   "id": "32ef9718",
   "metadata": {},
   "outputs": [],
   "source": [
    "X = pd.get_dummies(X)"
   ]
  },
  {
   "cell_type": "code",
   "execution_count": 117,
   "id": "7c3f2600",
   "metadata": {
    "scrolled": true
   },
   "outputs": [
    {
     "name": "stdout",
     "output_type": "stream",
     "text": [
      "<class 'pandas.core.frame.DataFrame'>\n",
      "RangeIndex: 119390 entries, 0 to 119389\n",
      "Data columns (total 17 columns):\n",
      " #   Column                          Non-Null Count   Dtype  \n",
      "---  ------                          --------------   -----  \n",
      " 0   is_canceled                     119390 non-null  int64  \n",
      " 1   lead_time                       119390 non-null  int64  \n",
      " 2   arrival_date_month              119390 non-null  object \n",
      " 3   stays_in_weekend_nights         119390 non-null  int64  \n",
      " 4   stays_in_week_nights            119390 non-null  int64  \n",
      " 5   meal                            119390 non-null  object \n",
      " 6   market_segment                  119390 non-null  object \n",
      " 7   is_repeated_guest               119390 non-null  int64  \n",
      " 8   previous_cancellations          119390 non-null  int64  \n",
      " 9   previous_bookings_not_canceled  119390 non-null  int64  \n",
      " 10  booking_changes                 119390 non-null  int64  \n",
      " 11  deposit_type                    119390 non-null  object \n",
      " 12  agent                           119390 non-null  float64\n",
      " 13  customer_type                   119390 non-null  object \n",
      " 14  adr                             119390 non-null  float64\n",
      " 15  total_guest                     119390 non-null  float64\n",
      " 16  kids                            119390 non-null  float64\n",
      "dtypes: float64(4), int64(8), object(5)\n",
      "memory usage: 15.5+ MB\n"
     ]
    }
   ],
   "source": [
    "df_ml.info()"
   ]
  },
  {
   "cell_type": "code",
   "execution_count": 118,
   "id": "021beaed",
   "metadata": {},
   "outputs": [],
   "source": [
    "X_train, X_test, y_train, y_test = train_test_split(X,y, test_size=0.2, random_state=0)"
   ]
  },
  {
   "cell_type": "code",
   "execution_count": 119,
   "id": "7439034f",
   "metadata": {},
   "outputs": [],
   "source": [
    "over = RandomOverSampler()"
   ]
  },
  {
   "cell_type": "code",
   "execution_count": 120,
   "id": "07f55bfd",
   "metadata": {},
   "outputs": [],
   "source": [
    "X_train, y_train = over.fit_resample(X_train, y_train)\n",
    "df_sample = pd.DataFrame(X_train, columns=X_train.columns)"
   ]
  },
  {
   "cell_type": "code",
   "execution_count": 121,
   "id": "3cb4d166",
   "metadata": {},
   "outputs": [
    {
     "name": "stderr",
     "output_type": "stream",
     "text": [
      "C:\\ProgramData\\Anaconda3\\lib\\site-packages\\seaborn\\_decorators.py:36: FutureWarning: Pass the following variable as a keyword arg: x. From version 0.12, the only valid positional argument will be `data`, and passing other arguments without an explicit keyword will result in an error or misinterpretation.\n",
      "  warnings.warn(\n"
     ]
    },
    {
     "data": {
      "image/png": "[encoded data removed]",
      "text/plain": [
       "<Figure size 432x288 with 1 Axes>"
      ]
     },
     "metadata": {
      "needs_background": "light"
     },
     "output_type": "display_data"
    }
   ],
   "source": [
    "sns.countplot(y_train);"
   ]
  },
  {
   "cell_type": "code",
   "execution_count": 122,
   "id": "f0ce3adf",
   "metadata": {},
   "outputs": [
    {
     "name": "stdout",
     "output_type": "stream",
     "text": [
      "훈련 데이터 점수 : 0.7655892021117641\n",
      "평가 데이터 점수 : 0.7693692939107127\n"
     ]
    },
    {
     "name": "stderr",
     "output_type": "stream",
     "text": [
      "C:\\ProgramData\\Anaconda3\\lib\\site-packages\\sklearn\\linear_model\\_logistic.py:763: ConvergenceWarning: lbfgs failed to converge (status=1):\n",
      "STOP: TOTAL NO. of ITERATIONS REACHED LIMIT.\n",
      "\n",
      "Increase the number of iterations (max_iter) or scale the data as shown in:\n",
      "    https://scikit-learn.org/stable/modules/preprocessing.html\n",
      "Please also refer to the documentation for alternative solver options:\n",
      "    https://scikit-learn.org/stable/modules/linear_model.html#logistic-regression\n",
      "  n_iter_i = _check_optimize_result(\n"
     ]
    }
   ],
   "source": [
    "# 로지스틱 회귀모델\n",
    "lr = LogisticRegression()\n",
    "lr.fit(X_train, y_train)\n",
    "\n",
    "print('훈련 데이터 점수 : {}'.format(lr.score(X_train, y_train)))\n",
    "print('평가 데이터 점수 : {}'.format(lr.score(X_test, y_test)))"
   ]
  },
  {
   "cell_type": "code",
   "execution_count": 123,
   "id": "9483886a",
   "metadata": {},
   "outputs": [],
   "source": [
    "# 스케일링 lr\n",
    "scaler = StandardScaler()"
   ]
  },
  {
   "cell_type": "code",
   "execution_count": 124,
   "id": "2337442a",
   "metadata": {},
   "outputs": [
    {
     "name": "stdout",
     "output_type": "stream",
     "text": [
      "훈련 데이터 점수 : 0.777127535943155\n",
      "평가 데이터 점수 : 0.7825194739927968\n"
     ]
    }
   ],
   "source": [
    "X_train_s = scaler.fit_transform(X_train)\n",
    "X_test_s = scaler.transform(X_test)\n",
    "\n",
    "lr.fit(X_train_s, y_train)\n",
    "\n",
    "print('훈련 데이터 점수 : {}'.format(lr.score(X_train_s, y_train)))\n",
    "print('평가 데이터 점수 : {}'.format(lr.score(X_test_s, y_test)))"
   ]
  },
  {
   "cell_type": "code",
   "execution_count": 125,
   "id": "91c8146e",
   "metadata": {},
   "outputs": [
    {
     "name": "stdout",
     "output_type": "stream",
     "text": [
      "훈련 데이터 점수 : 0.7698724972606833\n",
      "평가 데이터 점수 : 0.7761119021693609\n"
     ]
    }
   ],
   "source": [
    "# SGD 경사하강법\n",
    "sgd = make_pipeline(StandardScaler(), SGDClassifier(loss='log'))\n",
    "sgd.fit(X_train, y_train)\n",
    "\n",
    "print('훈련 데이터 점수 : {}'.format(sgd.score(X_train, y_train)))\n",
    "print('평가 데이터 점수 : {}'.format(sgd.score(X_test, y_test)))"
   ]
  },
  {
   "cell_type": "code",
   "execution_count": 126,
   "id": "56f7e3ed",
   "metadata": {},
   "outputs": [
    {
     "name": "stdout",
     "output_type": "stream",
     "text": [
      "훈련 데이터 점수 : 0.7398313245011123\n",
      "평가 데이터 점수 : 0.7430689337465449\n"
     ]
    }
   ],
   "source": [
    "# 스케일링 sgd\n",
    "print('훈련 데이터 점수 : {}'.format(sgd.score(X_train_s, y_train)))\n",
    "print('평가 데이터 점수 : {}'.format(sgd.score(X_test_s, y_test)))"
   ]
  },
  {
   "cell_type": "code",
   "execution_count": 127,
   "id": "5ee07640",
   "metadata": {},
   "outputs": [
    {
     "name": "stdout",
     "output_type": "stream",
     "text": [
      "훈련 데이터 점수 : 0.860967227811535\n",
      "평가 데이터 점수 : 0.7489320713627607\n"
     ]
    }
   ],
   "source": [
    "# KNN\n",
    "kn = KNeighborsClassifier()\n",
    "kn.fit(X_train, y_train)\n",
    "\n",
    "print('훈련 데이터 점수 : {}'.format(kn.score(X_train, y_train)))\n",
    "print('평가 데이터 점수 : {}'.format(kn.score(X_test, y_test)))"
   ]
  },
  {
   "cell_type": "code",
   "execution_count": 128,
   "id": "49c5f34e",
   "metadata": {},
   "outputs": [
    {
     "name": "stdout",
     "output_type": "stream",
     "text": [
      "훈련 데이터 점수 : 0.5002739316665007\n",
      "평가 데이터 점수 : 0.6250523494430019\n"
     ]
    }
   ],
   "source": [
    "# 스케일링 KNN\n",
    "print('훈련 데이터 점수 : {}'.format(kn.score(X_train_s, y_train)))\n",
    "print('평가 데이터 점수 : {}'.format(kn.score(X_test_s, y_test)))"
   ]
  },
  {
   "cell_type": "code",
   "execution_count": 129,
   "id": "3d36857f",
   "metadata": {},
   "outputs": [
    {
     "name": "stdout",
     "output_type": "stream",
     "text": [
      "훈련 데이터 점수 : 0.9935750572766212\n",
      "평가 데이터 점수 : 0.8215093391406315\n"
     ]
    }
   ],
   "source": [
    "# dt\n",
    "dt = DecisionTreeClassifier()\n",
    "dt.fit(X_train, y_train)\n",
    "\n",
    "print('훈련 데이터 점수 : {}'.format(dt.score(X_train, y_train)))\n",
    "print('평가 데이터 점수 : {}'.format(dt.score(X_test, y_test)))"
   ]
  },
  {
   "cell_type": "code",
   "execution_count": 194,
   "id": "2f775fe9",
   "metadata": {},
   "outputs": [],
   "source": [
    "X = df_ml.drop(['is_canceled'], axis =1)\n",
    "X = pd.get_dummies(X)\n",
    "y = df_ml['is_canceled']\n",
    "\n",
    "X_train, X_test, y_train, y_test = train_test_split(X, y, test_size=0.2, random_state=0)"
   ]
  },
  {
   "cell_type": "code",
   "execution_count": 195,
   "id": "a37bd1a6",
   "metadata": {
    "scrolled": true
   },
   "outputs": [],
   "source": [
    "X_train, y_train = over.fit_resample(X_train, y_train)"
   ]
  },
  {
   "cell_type": "code",
   "execution_count": 196,
   "id": "ae0aaf6f",
   "metadata": {},
   "outputs": [],
   "source": [
    "df_sample = pd.DataFrame(X_train, columns=X_train.columns)"
   ]
  },
  {
   "cell_type": "code",
   "execution_count": 197,
   "id": "4fae0ef5",
   "metadata": {},
   "outputs": [
    {
     "name": "stdout",
     "output_type": "stream",
     "text": [
      "훈련 데이터 점수 : 0.9904556471720651\n",
      "평가 데이터 점수 : 0.983666973783399\n"
     ]
    },
    {
     "name": "stderr",
     "output_type": "stream",
     "text": [
      "C:\\ProgramData\\Anaconda3\\lib\\site-packages\\sklearn\\linear_model\\_logistic.py:763: ConvergenceWarning: lbfgs failed to converge (status=1):\n",
      "STOP: TOTAL NO. of ITERATIONS REACHED LIMIT.\n",
      "\n",
      "Increase the number of iterations (max_iter) or scale the data as shown in:\n",
      "    https://scikit-learn.org/stable/modules/preprocessing.html\n",
      "Please also refer to the documentation for alternative solver options:\n",
      "    https://scikit-learn.org/stable/modules/linear_model.html#logistic-regression\n",
      "  n_iter_i = _check_optimize_result(\n"
     ]
    }
   ],
   "source": [
    "lr = LogisticRegression()\n",
    "lr.fit(X_train, y_train)\n",
    "\n",
    "print('훈련 데이터 점수 : {}'.format(lr.score(X_train, y_train)))\n",
    "print('평가 데이터 점수 : {}'.format(lr.score(X_test, y_test)))"
   ]
  },
  {
   "cell_type": "code",
   "execution_count": 202,
   "id": "935b63eb",
   "metadata": {},
   "outputs": [
    {
     "name": "stdout",
     "output_type": "stream",
     "text": [
      "<class 'pandas.core.frame.DataFrame'>\n",
      "Int64Index: 23878 entries, 5627 to 35158\n",
      "Data columns (total 47 columns):\n",
      " #   Column                          Non-Null Count  Dtype  \n",
      "---  ------                          --------------  -----  \n",
      " 0   lead_time                       23878 non-null  int64  \n",
      " 1   stays_in_weekend_nights         23878 non-null  int64  \n",
      " 2   stays_in_week_nights            23878 non-null  int64  \n",
      " 3   is_repeated_guest               23878 non-null  int64  \n",
      " 4   previous_cancellations          23878 non-null  int64  \n",
      " 5   previous_bookings_not_canceled  23878 non-null  int64  \n",
      " 6   booking_changes                 23878 non-null  int64  \n",
      " 7   agent                           23878 non-null  float64\n",
      " 8   adr                             23878 non-null  float64\n",
      " 9   total_guest                     23878 non-null  float64\n",
      " 10  kids                            23878 non-null  float64\n",
      " 11  arrival_date_month_1            23878 non-null  uint8  \n",
      " 12  arrival_date_month_April        23878 non-null  uint8  \n",
      " 13  arrival_date_month_August       23878 non-null  uint8  \n",
      " 14  arrival_date_month_December     23878 non-null  uint8  \n",
      " 15  arrival_date_month_February     23878 non-null  uint8  \n",
      " 16  arrival_date_month_January      23878 non-null  uint8  \n",
      " 17  arrival_date_month_July         23878 non-null  uint8  \n",
      " 18  arrival_date_month_June         23878 non-null  uint8  \n",
      " 19  arrival_date_month_March        23878 non-null  uint8  \n",
      " 20  arrival_date_month_May          23878 non-null  uint8  \n",
      " 21  arrival_date_month_November     23878 non-null  uint8  \n",
      " 22  arrival_date_month_October      23878 non-null  uint8  \n",
      " 23  arrival_date_month_September    23878 non-null  uint8  \n",
      " 24  meal_1                          23878 non-null  uint8  \n",
      " 25  meal_BB                         23878 non-null  uint8  \n",
      " 26  meal_FB                         23878 non-null  uint8  \n",
      " 27  meal_HB                         23878 non-null  uint8  \n",
      " 28  meal_Non-meal                   23878 non-null  uint8  \n",
      " 29  market_segment_1                23878 non-null  uint8  \n",
      " 30  market_segment_Aviation         23878 non-null  uint8  \n",
      " 31  market_segment_Complementary    23878 non-null  uint8  \n",
      " 32  market_segment_Corporate        23878 non-null  uint8  \n",
      " 33  market_segment_Direct           23878 non-null  uint8  \n",
      " 34  market_segment_Groups           23878 non-null  uint8  \n",
      " 35  market_segment_Offline TA/TO    23878 non-null  uint8  \n",
      " 36  market_segment_Online TA        23878 non-null  uint8  \n",
      " 37  market_segment_Undefined        23878 non-null  uint8  \n",
      " 38  deposit_type_1                  23878 non-null  uint8  \n",
      " 39  deposit_type_No Deposit         23878 non-null  uint8  \n",
      " 40  deposit_type_Non Refund         23878 non-null  uint8  \n",
      " 41  deposit_type_Refundable         23878 non-null  uint8  \n",
      " 42  customer_type_1                 23878 non-null  uint8  \n",
      " 43  customer_type_Contract          23878 non-null  uint8  \n",
      " 44  customer_type_Group             23878 non-null  uint8  \n",
      " 45  customer_type_Transient         23878 non-null  uint8  \n",
      " 46  customer_type_Transient-Party   23878 non-null  uint8  \n",
      "dtypes: float64(4), int64(7), uint8(36)\n",
      "memory usage: 3.0 MB\n"
     ]
    }
   ],
   "source": [
    "X_test.info()"
   ]
  },
  {
   "cell_type": "code",
   "execution_count": null,
   "id": "b76179c6",
   "metadata": {},
   "outputs": [],
   "source": []
  }
 ],
 "metadata": {
  "kernelspec": {
   "display_name": "Python 3",
   "language": "python",
   "name": "python3"
  },
  "language_info": {
   "codemirror_mode": {
    "name": "ipython",
    "version": 3
   },
   "file_extension": ".py",
   "mimetype": "text/x-python",
   "name": "python",
   "nbconvert_exporter": "python",
   "pygments_lexer": "ipython3",
   "version": "3.8.8"
  }
 },
 "nbformat": 4,
 "nbformat_minor": 5
}
